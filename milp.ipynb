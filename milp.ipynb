{
 "cells": [
  {
   "cell_type": "code",
   "execution_count": 1,
   "metadata": {},
   "outputs": [
    {
     "name": "stderr",
     "output_type": "stream",
     "text": [
      "/home/orange3xchicken/.local/lib/python3.7/site-packages/jax/experimental/optimizers.py:30: FutureWarning: jax.experimental.optimizers is deprecated, import jax.example_libraries.optimizers instead\n",
      "  FutureWarning)\n"
     ]
    }
   ],
   "source": [
    "from floorplan import Box, Net, FloorPlan\n",
    "\n",
    "import cvxpy as cp\n",
    "from cvxpy import Variable, Constant, Minimize, Problem\n",
    "import placedb\n",
    "import pylab\n",
    "import math\n",
    "\n",
    "import joblib\n",
    "\n",
    "from sklearn.manifold import SpectralEmbedding\n",
    "\n",
    "import scipy.io as io\n",
    "import scipy.sparse.csgraph as csgraph\n",
    "\n",
    "import jax\n",
    "from jax import jit, vmap, random, grad\n",
    "from jax.experimental import optimizers\n",
    "from jax import numpy as jnp\n",
    "\n",
    "from functools import partial\n",
    "import itertools\n",
    "\n",
    "import numpy as np\n",
    "import numpy.random as npr\n",
    "import matplotlib.pyplot as plt\n",
    "%matplotlib inline\n",
    "from matplotlib import collections as mc\n",
    "\n",
    "import datetime\n",
    "from tqdm.notebook import tqdm\n",
    "\n",
    "%load_ext autoreload\n",
    "%autoreload 2"
   ]
  },
  {
   "cell_type": "code",
   "execution_count": 2,
   "metadata": {},
   "outputs": [],
   "source": [
    "from ucsdpcb import PcbDB"
   ]
  },
  {
   "cell_type": "code",
   "execution_count": 3,
   "metadata": {},
   "outputs": [
    {
     "name": "stdout",
     "output_type": "stream",
     "text": [
      "bm9  namer.py  README.md\r\n"
     ]
    }
   ],
   "source": [
    "!ls PCBBenchmarks/"
   ]
  },
  {
   "cell_type": "code",
   "execution_count": 4,
   "metadata": {},
   "outputs": [],
   "source": [
    "numCores = joblib.cpu_count()\n",
    "\n",
    "bm = 9 # which benchmark to load\n",
    "design = \"bm{}\".format(bm)\n",
    "pcb_path = \"PCBBenchmarks/bm{}/bm{}.routed.kicad_pcb\".format(bm,bm)\n",
    "db = PcbDB.kicadPcbDataBase(pcb_path)"
   ]
  },
  {
   "cell_type": "code",
   "execution_count": 5,
   "metadata": {},
   "outputs": [],
   "source": [
    "name2idx = {}\n",
    "compw = []\n",
    "comph = []\n",
    "compx = []\n",
    "compy = []\n",
    "movable = []\n",
    "initrot = []\n",
    "initm = []\n",
    "mirror = []\n",
    "netss = []\n",
    "offsets = []\n",
    "size = []\n",
    "\n",
    "maxx = 0\n",
    "maxy = 0\n",
    "minx = 99999999\n",
    "miny = 99999999\n",
    "\n",
    "constraint_threshold = 0 # distance between pairs of components to determine relative position constraints"
   ]
  },
  {
   "cell_type": "code",
   "execution_count": 6,
   "metadata": {},
   "outputs": [
    {
     "name": "stdout",
     "output_type": "stream",
     "text": [
      "0 149.606 100.8634 True 4.04 2.06 270 True\n",
      "1 151.8666 100.8634 True 4.04 2.06 270 True\n",
      "2 140.5636 105.2322 True 4.04 2.06 90 True\n",
      "3 142.7988 100.6856 False 4.04 2.06 180 True\n",
      "4 145.0594 105.2068 True 6.2 6.2 270 True\n",
      "5 149.479 108.6104 True 4.2 2.2 270 True\n",
      "6 151.7396 108.585 True 4.2 2.2 270 True\n",
      "7 156.083 104.902 True 10.2 3.7 90 False\n",
      "util: 0.5859955650013281\n",
      "num nodes: 8 (7 movable)\n"
     ]
    }
   ],
   "source": [
    "sumarea = 0\n",
    "# gather rotation and coordinates of components\n",
    "for i in range(db.getInstancesCount()):\n",
    "    inst = db.getInstance(i)\n",
    "    compid = inst.getComponentId()\n",
    "\n",
    "    angle = int(inst.getAngle())\n",
    "    if inst.isLocked():\n",
    "        movable.append(False)\n",
    "    else:\n",
    "        movable.append(True)\n",
    "    if (angle == 0):\n",
    "        initrot.append(False)\n",
    "        initm.append(False)\n",
    "    elif (angle == 90):\n",
    "        initrot.append(True)\n",
    "        initm.append(False)\n",
    "    elif (angle == 180):\n",
    "        initrot.append(False)\n",
    "        initm.append(True)\n",
    "    elif (angle == 270):\n",
    "        initrot.append(True)\n",
    "        initm.append(True)\n",
    "        \n",
    "    compx.append(inst.getX() - 0.5 * ((1-int(initrot[-1]))*db.getCompBBoxW(compid) + \n",
    "                                      (int(initrot[-1]))*db.getCompBBoxH(compid)))\n",
    "    compy.append(inst.getY() - 0.5 * ((1-int(initrot[-1]))*db.getCompBBoxH(compid) + \n",
    "                                      (int(initrot[-1]))*db.getCompBBoxW(compid)))\n",
    "    compw.append(db.getCompBBoxW(compid))\n",
    "    comph.append(db.getCompBBoxH(compid))\n",
    "    \n",
    "    if compx[-1] < minx:\n",
    "        minx = compx[-1]\n",
    "    if compy[-1] < miny:\n",
    "        miny = compy[-1]\n",
    "        \n",
    "    if True:\n",
    "        if compx[-1] + comph[-1] > maxx:\n",
    "            maxx = compx[-1] + comph[-1]\n",
    "        if compy[-1] + compw[-1] > maxy:\n",
    "            maxy = compy[-1] + compw[-1]\n",
    "    else:\n",
    "        if compx[-1] + compw[-1] > maxx:\n",
    "            maxx = compx[-1] + compw[-1]\n",
    "        if compy[-1] + comph[-1] > maxy:\n",
    "            maxy = compy[-1] + comph[-1]\n",
    "    \n",
    "    print(i,inst.getX(), inst.getY(), initrot[-1], db.getCompBBoxW(compid), db.getCompBBoxH(compid), \n",
    "          angle, not inst.isLocked())\n",
    "    sumarea += db.getCompBBoxW(compid)* db.getCompBBoxH(compid)\n",
    "print(\"util: {}\".format(sumarea/((maxx-minx)*(maxy-miny))))\n",
    "print('num nodes: {} ({} movable)'.format(len(compx), len([m for m in movable if m])))"
   ]
  },
  {
   "cell_type": "code",
   "execution_count": 7,
   "metadata": {},
   "outputs": [],
   "source": [
    "\"\"\"Gather pin offset information \"\"\"\n",
    "for i in range(db.getNumNets()):\n",
    "    net = db.getNet(i)\n",
    "    pins = net.getPins()\n",
    "    netss.append([])\n",
    "    offsets.append([])\n",
    "    for p in pins:\n",
    "        instid = p.getInstId()\n",
    "        netss[-1].append(instid)\n",
    "        px = db.getPinPositionX(p)\n",
    "        py = db.getPinPositionY(p)\n",
    "        inst = db.getInstance(instid)\n",
    "        ix = inst.getX() \n",
    "        iy = inst.getY()\n",
    "        w = comph[instid]\n",
    "        h = compw[instid]\n",
    "\n",
    "        angle = int(inst.getAngle())\n",
    "\n",
    "        xoff = (1-int(initrot[instid]))*(px-ix)/h + (int(initrot[instid]))*(px-ix)/w\n",
    "        yoff = (1-int(initrot[instid]))*(py-iy)/w + (int(initrot[instid]))*(py-iy)/h\n",
    "        assert np.abs(xoff) < 1.0\n",
    "        assert np.abs(yoff) < 1.0\n",
    "        if True:\n",
    "            t = xoff\n",
    "            xoff = yoff\n",
    "            yoff = t\n",
    "\n",
    "        if (angle == 0):##\n",
    "            offsets[-1].append((xoff,yoff))\n",
    "        elif (angle == 90):##\n",
    "            offsets[-1].append((yoff,xoff))\n",
    "        elif (angle == 180):##\n",
    "            offsets[-1].append((xoff,yoff))\n",
    "        elif (angle == 270):##\n",
    "            offsets[-1].append((yoff,xoff))\n",
    "        else:\n",
    "            assert False\n",
    "            \n",
    "offsets = [o for o, n in zip(offsets, netss) if len(n)>=2]        \n",
    "netss = [n for n in netss if len(n)>= 2]\n",
    "netlens = [len(n) for n in netss]\n",
    "maxlenidx = np.array(netlens).argsort()[-2:]\n",
    "\n",
    "offsets = [o for i,o in enumerate(offsets) if i not in maxlenidx]\n",
    "netss = [n for i,n in enumerate(netss) if i not in maxlenidx]"
   ]
  },
  {
   "cell_type": "code",
   "execution_count": 8,
   "metadata": {},
   "outputs": [
    {
     "name": "stdout",
     "output_type": "stream",
     "text": [
      "num horizontal & vertical constraints: 20 8\n"
     ]
    }
   ],
   "source": [
    "\"\"\"Instantiate MILP variables \"\"\"\n",
    "nets = []\n",
    "for i, net in enumerate(netss):\n",
    "    nodes = net\n",
    "    pin_offsets = offsets[i]\n",
    "    \n",
    "    # ignore 1-pin nets\n",
    "    if len(nodes) <=1: continue\n",
    "    nets.append(Net(nodes, pin_offsets, i))\n",
    "    \n",
    "boxes = []\n",
    "for i in range(len(compw)):\n",
    "    boxes.append(Box(compw[i], comph[i], compx[i], compy[i], \n",
    "                     initialr =[not r for r in initrot][i], initialmx=0, initialmy=0, idx=i, \n",
    "                     r=movable[i], pl=movable[i], m=False))\n",
    "\n",
    "    placeable_area = (56,52)\n",
    "\n",
    "num_nets = len(netss)\n",
    "num_nodes = len(boxes)\n",
    "adj=np.zeros((num_nodes,num_nodes))\n",
    "for netid, net in enumerate(netss):\n",
    "    for nodeid1 in net:\n",
    "        for nodeid2 in net:\n",
    "            adj[nodeid1,nodeid2] += 1\n",
    "  \n",
    "# order constraints\n",
    "vo = []\n",
    "ho = []\n",
    "\n",
    "norelpairs = []\n",
    "\n",
    "for i1, x1 in enumerate(zip(compx, compy)):\n",
    "    for i2, x2 in enumerate(zip(compx, compy)):\n",
    "        if i2 <= i1:\n",
    "            continue\n",
    "        # if distance greater than threshold\n",
    "        if max(abs(x1[0] - x2[0]), abs(x1[1] - x2[1])) > constraint_threshold:\n",
    "            if abs(x1[0] - x2[0]) < abs(x1[1] - x2[1]):\n",
    "                if x1[1] < x2[1]:\n",
    "                    vo.append([i1, i2])\n",
    "                else:\n",
    "                    vo.append([i2,i1])\n",
    "            else:\n",
    "                if x1[0] < x2[0]:\n",
    "                    ho.append([i1, i2])\n",
    "                else:\n",
    "                    ho.append([i2,i1]) \n",
    "        else:\n",
    "            norelpairs.append([i1,i2])\n",
    "\n",
    "horiz_order = [[boxes[i] for i in h] for h in ho]\n",
    "vert_order = [[boxes[i] for i in v] for v in vo]\n",
    "\n",
    "print('num horizontal & vertical constraints:',len(horiz_order),len(vert_order))"
   ]
  },
  {
   "cell_type": "code",
   "execution_count": 9,
   "metadata": {},
   "outputs": [
    {
     "name": "stdout",
     "output_type": "stream",
     "text": [
      "Compiled constraints\n",
      "39.239199934084354\n"
     ]
    },
    {
     "data": {
      "image/png": "[encoded data removed]",
      "text/plain": [
       "<Figure size 432x288 with 1 Axes>"
      ]
     },
     "metadata": {},
     "output_type": "display_data"
    }
   ],
   "source": [
    "# First, just plot the manual layout (set all components to not be movable / rotateable / no constraints)\n",
    "boxes = []\n",
    "horiz_order = []\n",
    "vert_order = []\n",
    "for i in range(len(compw)):\n",
    "    boxes.append(Box(compw[i], comph[i], compx[i], compy[i], \n",
    "                     initialr =[not r for r in initrot][i], initialmx=0, initialmy=0, idx=i, \n",
    "                     r=False, pl=False, m=False))\n",
    "    \n",
    "fp = FloorPlan(boxes, nets,adj,obj=False,norelpairs=None, ox=minx,oy=miny,boundary_W=maxx-minx, boundary_H=maxy-miny, \n",
    "               margin=0.5,horizontal_orderings=horiz_order, vertical_orderings=vert_order, \n",
    "               max_seconds=3800, num_cores=numCores-1, name=design)\n",
    "p, c = fp.layout()\n",
    "print(fp.h.value)\n",
    "fp.show()"
   ]
  },
  {
   "cell_type": "code",
   "execution_count": 10,
   "metadata": {},
   "outputs": [
    {
     "name": "stdout",
     "output_type": "stream",
     "text": [
      "num horizontal & vertical constraints: 7 0\n",
      "Compiled constraints\n",
      "29.976999921813714\n"
     ]
    },
    {
     "data": {
      "image/png": "[encoded data removed]",
      "text/plain": [
       "<Figure size 432x288 with 1 Axes>"
      ]
     },
     "metadata": {},
     "output_type": "display_data"
    }
   ],
   "source": [
    "# Now, try making the movable components movable,\n",
    "# and impose constraints on just the fixed nodes:\n",
    "\n",
    "# order constraints\n",
    "vo = []\n",
    "ho = []\n",
    "\n",
    "norelpairs = []\n",
    "\n",
    "for i1, x1 in enumerate(zip(compx, compy)):\n",
    "    for i2, x2 in enumerate(zip(compx, compy)):\n",
    "        if i2 <= i1:\n",
    "            continue\n",
    "        # one of the two is a fixed node\n",
    "        if ((not movable[i1]) or (not movable[i2])):\n",
    "            # check horizontal and vertical direction and max difference\n",
    "            if abs(x1[0] - x2[0]) < abs(x1[1] - x2[1]) and \\\n",
    "            max(abs(x1[0] - x2[0]), abs(x1[1] - x2[1])) > 10:\n",
    "                if x1[1] < x2[1]:\n",
    "                    vo.append([i1, i2])\n",
    "                else:\n",
    "                    vo.append([i2, i1])\n",
    "            else:\n",
    "                if x1[0] < x2[0]:\n",
    "                    ho.append([i1, i2])\n",
    "                else:\n",
    "                    ho.append([i2, i1]) \n",
    "        else:\n",
    "            norelpairs.append([i1,i2])\n",
    "\n",
    "horiz_order = [[boxes[i] for i in h] for h in ho]\n",
    "vert_order = [[boxes[i] for i in v] for v in vo]\n",
    "print('num horizontal & vertical constraints:',len(horiz_order),len(vert_order))\n",
    "\n",
    "boxes = []\n",
    "for i in range(len(compw)):\n",
    "    boxes.append(Box(compw[i], comph[i], compx[i], compy[i], \n",
    "                     initialr =[not r for r in initrot][i], initialmx=0, initialmy=0, idx=i, \n",
    "                     r=movable[i], pl=movable[i], m=False))\n",
    "    \n",
    "fp = FloorPlan(boxes, nets,adj,obj=True,norelpairs=None, ox=minx,oy=miny,boundary_W=maxx-minx, boundary_H=maxy-miny, \n",
    "               margin=0.5,horizontal_orderings=horiz_order, vertical_orderings=vert_order, \n",
    "               max_seconds=3800, num_cores=numCores-1, name=design)\n",
    "p, c = fp.layout()\n",
    "print(fp.h.value)\n",
    "fp.show()"
   ]
  },
  {
   "cell_type": "code",
   "execution_count": 11,
   "metadata": {},
   "outputs": [
    {
     "name": "stdout",
     "output_type": "stream",
     "text": [
      "0 142.0536 107.96040006393268 2.06 4.04 270.0 1.0\n",
      "0 142.0536 107.96040006393268 2.06 4.04 0.0 1.0\n",
      "1 142.0536 99.8734 2.06 4.04 270.0 1.0\n",
      "1 142.0536 99.8734 2.06 4.04 0.0 1.0\n",
      "2 143.30300000000003 104.41040006393268 2.06 4.04 90.0 0.0\n",
      "2 143.30300000000003 104.41040006393268 2.06 4.04 90.0 0.0\n",
      "3 146.75399998509397 100.28040000000001 2.06 4.04 180.0 1.0\n",
      "3 146.75399998509397 100.28040000000001 2.06 4.04 180.0 1.0\n",
      "4 147.933 104.9104 6.2 6.2 270.0 0.0\n",
      "4 147.933 104.9104 6.2 6.2 270.0 0.0\n",
      "5 151.37399998509395 109.61040000000001 2.2 4.2 270.0 1.0\n",
      "5 151.37399998509395 109.61040000000001 2.2 4.2 0.0 1.0\n",
      "6 152.63300000000004 105.91040000000001 2.2 4.2 270.0 0.0\n",
      "6 152.63300000000004 105.91040000000001 2.2 4.2 270.0 0.0\n",
      "7 156.083 104.902 3.7 10.2 90.0 0.0\n",
      "7 156.083 104.902 3.7 10.2 90.0 0.0\n"
     ]
    }
   ],
   "source": [
    "\"\"\"write back to db \"\"\"\n",
    "for i in range(db.getInstancesCount()):\n",
    "    inst = db.getInstance(i)\n",
    "    compid = inst.getComponentId()\n",
    "    \n",
    "    box = fp.boxes[i]\n",
    "    \n",
    "    xpos = box.x.value.item() + 0.5 * ((1-fp.boxes[i].r.value)*fp.boxes[i].w.value + \n",
    "                                          (fp.boxes[i].r.value)*fp.boxes[i].h.value)\n",
    "    ypos = box.y.value.item()+ 0.5 * ((1-fp.boxes[i].r.value)*fp.boxes[i].h.value + \n",
    "                                         (fp.boxes[i].r.value)*fp.boxes[i].w.value)\n",
    "    inst.setX(xpos)\n",
    "    inst.setY(ypos)\n",
    "\n",
    "    rotated = box.r.value\n",
    "    mirroredX = box.mx.value.item()\n",
    "    mirroredY = box.my.value.item()\n",
    "    \n",
    "    init_angle = inst.getAngle()\n",
    " \n",
    "    print(i, xpos, ypos, box.w, box.h,init_angle, rotated)\n",
    "\n",
    "    if (init_angle==0) and (rotated == 0.0):\n",
    "        inst.setAngle(90)\n",
    "    elif (init_angle==0) and (rotated == 1.0):\n",
    "        inst.setAngle(0)\n",
    "    elif (init_angle==90) and (rotated == 0.0):\n",
    "        inst.setAngle(90)\n",
    "    elif (init_angle==90) and (rotated == 1.0):\n",
    "        inst.setAngle(180)\n",
    "    elif (init_angle==180) and (rotated == 0.0):\n",
    "        inst.setAngle(270)\n",
    "    elif (init_angle==180) and (rotated == 1.0):\n",
    "        inst.setAngle(180)\n",
    "    elif (init_angle==270) and (rotated == 0.0):\n",
    "        inst.setAngle(270)\n",
    "    elif (init_angle==270) and (rotated == 1.0):\n",
    "        inst.setAngle(0)\n",
    "    print(i, xpos, ypos, box.w, box.h,inst.getAngle(), rotated)    \n",
    "    "
   ]
  },
  {
   "cell_type": "code",
   "execution_count": 12,
   "metadata": {},
   "outputs": [],
   "source": [
    "\"\"\"print db to file \"\"\"\n",
    "db.printKiCad()"
   ]
  }
 ],
 "metadata": {
  "kernelspec": {
   "display_name": "Python 3",
   "language": "python",
   "name": "python3"
  },
  "language_info": {
   "codemirror_mode": {
    "name": "ipython",
    "version": 3
   },
   "file_extension": ".py",
   "mimetype": "text/x-python",
   "name": "python",
   "nbconvert_exporter": "python",
   "pygments_lexer": "ipython3",
   "version": "3.7.3"
  }
 },
 "nbformat": 4,
 "nbformat_minor": 4
}
