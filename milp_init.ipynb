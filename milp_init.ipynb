{
 "cells": [
  {
   "cell_type": "code",
   "execution_count": 1,
   "metadata": {},
   "outputs": [
    {
     "name": "stderr",
     "output_type": "stream",
     "text": [
      "/home/yuw/anaconda3/lib/python3.9/site-packages/jax/experimental/optimizers.py:28: FutureWarning: jax.experimental.optimizers is deprecated, import jax.example_libraries.optimizers instead\n",
      "  warnings.warn('jax.experimental.optimizers is deprecated, '\n"
     ]
    }
   ],
   "source": [
    "from floorplan import Box, Net, FloorPlan\n",
    "#from floorplan_smt import Box, Net, FloorPlan\n",
    "\n",
    "import cvxpy as cp\n",
    "from cvxpy import Variable, Constant, Minimize, Problem\n",
    "import placedb\n",
    "import pylab\n",
    "import math\n",
    "\n",
    "import joblib\n",
    "\n",
    "from sklearn.manifold import SpectralEmbedding\n",
    "\n",
    "import scipy.io as io\n",
    "import scipy.sparse.csgraph as csgraph\n",
    "\n",
    "import jax\n",
    "from jax import jit, vmap, random, grad\n",
    "from jax.experimental import optimizers\n",
    "from jax import numpy as jnp\n",
    "\n",
    "from functools import partial\n",
    "import itertools\n",
    "\n",
    "import numpy as np\n",
    "import numpy.random as npr\n",
    "import matplotlib.pyplot as plt\n",
    "%matplotlib inline\n",
    "from matplotlib import collections as mc\n",
    "\n",
    "import datetime\n",
    "from tqdm.notebook import tqdm\n",
    "\n",
    "%load_ext autoreload\n",
    "%autoreload 2"
   ]
  },
  {
   "attachments": {},
   "cell_type": "markdown",
   "metadata": {},
   "source": [
    "# Notes\n",
    "- [Deprecated Warning] This code was developed using <0.2.22 Jaxlib version>\n",
    "    - 07/20/2023: Updated to work on 0.3.33 Jaxlib version. Reference: https://discourse.pymc.io/t/pymc-4-0-0b6-module-jax-ops-has-no-attribute-index-update/9267/7\n",
    "- Removed some of the unnecessary code regarding `placedb`\n"
   ]
  },
  {
   "cell_type": "code",
   "execution_count": 2,
   "metadata": {},
   "outputs": [
    {
     "name": "stdout",
     "output_type": "stream",
     "text": [
      "trying to import ucsdpcb._PcbDB\n"
     ]
    }
   ],
   "source": [
    "from ucsdpcb import PcbDB"
   ]
  },
  {
   "cell_type": "code",
   "execution_count": 3,
   "metadata": {},
   "outputs": [],
   "source": [
    "numCores = joblib.cpu_count()"
   ]
  },
  {
   "cell_type": "code",
   "execution_count": 4,
   "metadata": {},
   "outputs": [
    {
     "name": "stdout",
     "output_type": "stream",
     "text": [
      "bm9  test  test.kicad_pcb\n"
     ]
    }
   ],
   "source": [
    "!ls PCBBenchmarks/"
   ]
  },
  {
   "cell_type": "code",
   "execution_count": 5,
   "metadata": {},
   "outputs": [
    {
     "name": "stderr",
     "output_type": "stream",
     "text": [
      "Build Kicad Pcb database...\n"
     ]
    },
    {
     "name": "stdout",
     "output_type": "stream",
     "text": [
      "(17.7934 10.847 2)\n"
     ]
    }
   ],
   "source": [
    "bm = 9\n",
    "design = \"bm{}\".format(bm)\n",
    "#pcb_path = \"PCBBenchmarks/bm{}/bm{}.routed.kicad_pcb\".format(bm,bm)\n",
    "# pcb_path = \"./BBBC.kicad_pcb\".format(bm,bm)\n",
    "pcb_path = \"PCBBenchmarks/bm9/bm9.routed.kicad_pcb\"\n",
    "db = PcbDB.kicadPcbDataBase(pcb_path)"
   ]
  },
  {
   "cell_type": "code",
   "execution_count": 6,
   "metadata": {},
   "outputs": [],
   "source": [
    "#pcb_path = \"./output.bm12.routed.var.kicad_pcb\"\n",
    "#db = PcbDB.kicadPcbDataBase(pcb_path)"
   ]
  },
  {
   "cell_type": "code",
   "execution_count": 7,
   "metadata": {},
   "outputs": [
    {
     "name": "stdout",
     "output_type": "stream",
     "text": [
      "bm9  test  test.kicad_pcb\n"
     ]
    }
   ],
   "source": [
    "!ls PCBBenchmarks"
   ]
  },
  {
   "cell_type": "code",
   "execution_count": 8,
   "metadata": {},
   "outputs": [],
   "source": [
    "name2idx = {}\n",
    "compw = []\n",
    "comph = []\n",
    "compx = []\n",
    "compy = []\n",
    "movable = []\n",
    "initrot = []\n",
    "initm = []\n",
    "mirror = []\n",
    "netss = []\n",
    "offsets = []\n",
    "size = []\n",
    "\n",
    "maxx = 0\n",
    "maxy = 0\n",
    "minx = 99999999\n",
    "miny = 99999999"
   ]
  },
  {
   "cell_type": "code",
   "execution_count": 9,
   "metadata": {},
   "outputs": [
    {
     "name": "stdout",
     "output_type": "stream",
     "text": [
      "0 149.606 100.8634 True 4.04 2.06 270 True\n",
      "1 151.8666 100.8634 True 4.04 2.06 270 True\n",
      "2 140.5636 105.2322 True 4.04 2.06 90 True\n",
      "3 142.7988 100.6856 False 4.04 2.06 180 True\n",
      "4 145.0594 105.2068 True 6.2 6.2 270 True\n",
      "5 149.479 108.6104 True 4.2 2.2 270 True\n",
      "6 151.7396 108.585 True 4.2 2.2 270 True\n",
      "7 156.083 104.902 True 10.2 3.7 90 False\n",
      "util: 0.5859955650013281\n",
      "num nodes: 8 (7 movable)\n"
     ]
    }
   ],
   "source": [
    "sumarea = 0\n",
    "\n",
    "for i in range(db.getInstancesCount()):\n",
    "    inst = db.getInstance(i)\n",
    "    compid = inst.getComponentId()\n",
    "\n",
    "    angle = int(inst.getAngle())\n",
    "    if inst.isLocked():\n",
    "        movable.append(False)\n",
    "    else:\n",
    "        movable.append(True)\n",
    "    if (angle == 0):\n",
    "        initrot.append(False)\n",
    "        initm.append(False)\n",
    "    elif (angle == 90):\n",
    "        initrot.append(True)\n",
    "        initm.append(False)\n",
    "    elif (angle == 180):\n",
    "        initrot.append(False)\n",
    "        initm.append(True)\n",
    "    elif (angle == 270):\n",
    "        initrot.append(True)\n",
    "        initm.append(True)\n",
    "        \n",
    "    compx.append(inst.getX() - 0.5 * ((1-int(initrot[-1]))*db.getCompBBoxW(compid) + \n",
    "                                      (int(initrot[-1]))*db.getCompBBoxH(compid)))\n",
    "    compy.append(inst.getY() - 0.5 * ((1-int(initrot[-1]))*db.getCompBBoxH(compid) + \n",
    "                                      (int(initrot[-1]))*db.getCompBBoxW(compid)))\n",
    "    compw.append(db.getCompBBoxW(compid))\n",
    "    comph.append(db.getCompBBoxH(compid))\n",
    "    \n",
    "    if compx[-1] < minx:\n",
    "        minx = compx[-1]\n",
    "    if compy[-1] < miny:\n",
    "        miny = compy[-1]\n",
    "        \n",
    "    if True:\n",
    "        if compx[-1] + comph[-1] > maxx:\n",
    "            maxx = compx[-1] + comph[-1]\n",
    "        if compy[-1] + compw[-1] > maxy:\n",
    "            maxy = compy[-1] + compw[-1]\n",
    "    else:\n",
    "        if compx[-1] + compw[-1] > maxx:\n",
    "            maxx = compx[-1] + compw[-1]\n",
    "        if compy[-1] + comph[-1] > maxy:\n",
    "            maxy = compy[-1] + comph[-1]\n",
    "    \n",
    "    print(i,inst.getX(), inst.getY(), initrot[-1], db.getCompBBoxW(compid), db.getCompBBoxH(compid), \n",
    "          angle, not inst.isLocked())\n",
    "    sumarea += db.getCompBBoxW(compid)* db.getCompBBoxH(compid)\n",
    "print(\"util: {}\".format(sumarea/((maxx-minx)*(maxy-miny))))\n",
    "print('num nodes: {} ({} movable)'.format(len(compx), len([m for m in movable if m])))"
   ]
  },
  {
   "cell_type": "code",
   "execution_count": 10,
   "metadata": {},
   "outputs": [],
   "source": [
    "for i in range(db.getNumNets()):\n",
    "    net = db.getNet(i)\n",
    "    pins = net.getPins()\n",
    "    netss.append([])\n",
    "    offsets.append([])\n",
    "    for p in pins:\n",
    "        instid = p.getInstId()\n",
    "        netss[-1].append(instid)\n",
    "        px = db.getPinPositionX(p)\n",
    "        py = db.getPinPositionY(p)\n",
    "        inst = db.getInstance(instid)\n",
    "        ix = inst.getX() \n",
    "        iy = inst.getY()\n",
    "        w = comph[instid]\n",
    "        h = compw[instid]\n",
    "        #ix = compx[instid]\n",
    "        #iy = compy[instid]\n",
    "        #xoff = ((1-int(initrot[instid]))*compw[instid] + \n",
    "        #                              (int(initrot[instid]))*comph[instid])\n",
    "        #yoff = ((1-int(initrot[instid]))*comph[instid] + \n",
    "        #                              (int(initrot[instid]))*compw[instid])\n",
    "\n",
    "        angle = int(inst.getAngle())\n",
    "        \n",
    "        #xoff = (1-int(initrot[instid]))*(px-ix)/w + (int(initrot[instid]))*(py-iy)/h\n",
    "        #yoff = (1-int(initrot[instid]))*(py-iy)/h + (int(initrot[instid]))*(px-ix)/w\n",
    "        xoff = (1-int(initrot[instid]))*(px-ix)/h + (int(initrot[instid]))*(px-ix)/w\n",
    "        yoff = (1-int(initrot[instid]))*(py-iy)/w + (int(initrot[instid]))*(py-iy)/h\n",
    "        assert np.abs(xoff) < 1.0\n",
    "        assert np.abs(yoff) < 1.0\n",
    "        if True:#not initrot[instid]:\n",
    "            t = xoff\n",
    "            xoff = yoff\n",
    "            yoff = t\n",
    "\n",
    "        if (angle == 0):##\n",
    "            offsets[-1].append((xoff,yoff))\n",
    "        elif (angle == 90):##\n",
    "            offsets[-1].append((yoff,xoff))\n",
    "        elif (angle == 180):##\n",
    "            offsets[-1].append((xoff,yoff))\n",
    "        elif (angle == 270):##\n",
    "            offsets[-1].append((yoff,xoff))\n",
    "        else:\n",
    "            assert False\n",
    "            \n",
    "offsets = [o for o, n in zip(offsets, netss) if len(n)>=2]        \n",
    "netss = [n for n in netss if len(n)>= 2]\n",
    "netlens = [len(n) for n in netss]\n",
    "#maxlenidx = np.argmax(netlens)\n",
    "maxlenidx = np.array(netlens).argsort()[-2:]\n",
    "\n",
    "offsets = [o for i,o in enumerate(offsets) if i not in maxlenidx]\n",
    "netss = [n for i,n in enumerate(netss) if i not in maxlenidx]"
   ]
  },
  {
   "cell_type": "code",
   "execution_count": 11,
   "metadata": {},
   "outputs": [
    {
     "data": {
      "text/plain": [
       "(8, 7, 16)"
      ]
     },
     "execution_count": 11,
     "metadata": {},
     "output_type": "execute_result"
    }
   ],
   "source": [
    "nets = []\n",
    "for i, net in enumerate(netss):\n",
    "    nodes = net\n",
    "    #pin_offsets = [(0.0,0.0) for _ in net]\n",
    "    pin_offsets = offsets[i]\n",
    "    if len(nodes) <=1: continue\n",
    "    nets.append(Net(nodes, pin_offsets, i))\n",
    "    \n",
    "boxes = []\n",
    "for i in range(len(compw)):\n",
    "    boxes.append(Box(compw[i], comph[i], compx[i], compy[i], \n",
    "                     initialr =[not r for r in initrot][i], initialmx=0, initialmy=0, idx=i, \n",
    "                     r=movable[i], pl=movable[i], m=False))\n",
    "                     #r=False, pl=False, m=False))\n",
    "placeable_area = (56,52)\n",
    "\n",
    "num_nets = len(netss)\n",
    "num_nodes = len(boxes)\n",
    "adj=np.zeros((num_nodes,num_nodes))\n",
    "for netid, net in enumerate(netss):\n",
    "    for nodeid1 in net:\n",
    "        for nodeid2 in net:\n",
    "            adj[nodeid1,nodeid2] += 1\n",
    "  \n",
    "# order constraints\n",
    "vo = []\n",
    "ho = []\n",
    "\n",
    "norelpairs = []\n",
    "\n",
    "for i1, x1 in enumerate([]):\n",
    "    continue ####### <<<<<=======\n",
    "    for i2, x2 in enumerate([]):\n",
    "        if i2 <= i1:\n",
    "            continue\n",
    "        # if distance greater than threshold\n",
    "        if max(abs(x1[0] - x2[0]), abs(x1[1] - x2[1])) > 2:\n",
    "            if abs(x1[0] - x2[0]) < abs(x1[1] - x2[1]):\n",
    "                if x1[1] < x2[1]:\n",
    "                    vo.append([i1, i2])\n",
    "                else:\n",
    "                    vo.append([i2,i1])\n",
    "            else:\n",
    "                if x1[0] < x2[0]:\n",
    "                    ho.append([i1, i2])\n",
    "                else:\n",
    "                    ho.append([i2,i1]) \n",
    "        else:\n",
    "            norelpairs.append([i1,i2])\n",
    "\n",
    "horiz_order = [[boxes[i] for i in h] for h in ho]\n",
    "vert_order = [[boxes[i] for i in v] for v in vo]\n",
    "\n",
    "num_nodes, num_nets, db.getNumNets()\n",
    "    \n",
    "# bm 7: ox=75.50,oy=119,boundary_W=55, boundary_H=30\n",
    "#fp = FloorPlan(boxes, nets,adj,norelpairs=None, ox=138.0,oy=98.0,boundary_W=20.0, boundary_H=13.0, \n",
    "#fp = FloorPlan(boxes, nets,adj,obj=False,norelpairs=None, ox=minx,oy=miny,boundary_W=maxx-minx, boundary_H=maxy-miny, \n",
    "#               margin=0.5,horizontal_orderings=horiz_order, vertical_orderings=vert_order, \n",
    "#               max_seconds=1800, num_cores=numCores-1, name=design)"
   ]
  },
  {
   "cell_type": "code",
   "execution_count": 12,
   "metadata": {},
   "outputs": [
    {
     "data": {
      "text/plain": [
       "(139.5336, 157.933, 98.8434, 110.7104)"
      ]
     },
     "execution_count": 12,
     "metadata": {},
     "output_type": "execute_result"
    }
   ],
   "source": [
    "minx, maxx, miny, maxy"
   ]
  },
  {
   "cell_type": "code",
   "execution_count": 13,
   "metadata": {
    "scrolled": true
   },
   "outputs": [
    {
     "name": "stdout",
     "output_type": "stream",
     "text": [
      "Compiled constraints\n",
      "===============================================================================\n",
      "                                     CVXPY                                     \n",
      "                                    v1.1.13                                    \n",
      "===============================================================================\n",
      "(CVXPY) Jul 20 08:41:41 PM: Your problem has 108 variables, 312 constraints, and 0 parameters.\n",
      "(CVXPY) Jul 20 08:41:41 PM: It is compliant with the following grammars: DCP, DQCP\n",
      "(CVXPY) Jul 20 08:41:41 PM: (If you need to solve this problem multiple times, but with different data, consider using parameters.)\n",
      "(CVXPY) Jul 20 08:41:41 PM: CVXPY will first compile your problem; then, it will invoke a numerical solver to obtain a solution.\n",
      "-------------------------------------------------------------------------------\n",
      "                                  Compilation                                  \n",
      "-------------------------------------------------------------------------------\n",
      "(CVXPY) Jul 20 08:41:41 PM: Compiling problem (target solver=CBC).\n",
      "(CVXPY) Jul 20 08:41:41 PM: Reduction chain: Dcp2Cone -> CvxAttr2Constr -> ConeMatrixStuffing -> CBC\n",
      "(CVXPY) Jul 20 08:41:41 PM: Applying reduction Dcp2Cone\n",
      "(CVXPY) Jul 20 08:41:41 PM: Applying reduction CvxAttr2Constr\n",
      "(CVXPY) Jul 20 08:41:41 PM: Applying reduction ConeMatrixStuffing\n",
      "(CVXPY) Jul 20 08:41:41 PM: Applying reduction CBC\n",
      "(CVXPY) Jul 20 08:41:41 PM: Finished problem compilation (took 1.586e-01 seconds).\n",
      "-------------------------------------------------------------------------------\n",
      "                                Numerical solver                               \n",
      "-------------------------------------------------------------------------------\n",
      "(CVXPY) Jul 20 08:41:41 PM: Invoking solver CBC  to obtain a solution.\n",
      "-------------------------------------------------------------------------------\n",
      "                                    Summary                                    \n",
      "-------------------------------------------------------------------------------Welcome to the CBC MILP Solver \n",
      "Version: 2.10.10 \n",
      "Build Date: Apr 21 2023 \n",
      "\n",
      "command line - ICbcModel -solve -quit (default strategy 1)\n",
      "\n",
      "(CVXPY) Jul 20 08:41:41 PM: Problem status: optimal\n",
      "Continuous objective value is 0 - 0.00 seconds\n",
      "Cgl0002I 80 variables fixed\n",
      "Cgl0004I processed model has 0 rows, 0 columns (0 integer (0 of which binary)) and 0 elements\n",
      "Cbc3007W No integer variables - nothing to do\n",
      "Cuts at root node changed objective from 0 to -1.79769e+308\n",
      "Probing was tried 0 times and created 0 cuts of which 0 were active after adding rounds of cuts (0.000 seconds)\n",
      "Gomory was tried 0 times and created 0 cuts of which 0 were active after adding rounds of cuts (0.000 seconds)\n",
      "Knapsack was tried 0 times and created 0 cuts of which 0 were active after adding rounds of cuts (0.000 seconds)\n",
      "Clique was tried 0 times and created 0 cuts of which 0 were active after adding rounds of cuts (0.000 seconds)\n",
      "MixedIntegerRounding2 was tried 0 times and created 0 cuts of which 0 were active after adding rounds of cuts (0.000 seconds)\n",
      "FlowCover was tried 0 times and created 0 cuts of which 0 were active after adding rounds of cuts (0.000 seconds)\n",
      "TwoMirCuts was tried 0 times and created 0 cuts of which 0 were active after adding rounds of cuts (0.000 seconds)\n",
      "ZeroHalf was tried 0 times and created 0 cuts of which 0 were active after adding rounds of cuts (0.000 seconds)\n",
      "\n",
      "Result - Optimal solution found\n",
      "\n",
      "Objective value:                0.00000000\n",
      "Enumerated nodes:               0\n",
      "Total iterations:               18\n",
      "Time (CPU seconds):             0.00\n",
      "Time (Wallclock seconds):       0.00\n",
      "\n",
      "Total time (CPU seconds):       0.00   (Wallclock seconds):       0.00\n",
      "\n",
      "(CVXPY) Jul 20 08:41:41 PM: Optimal value: 0.000e+00\n",
      "(CVXPY) Jul 20 08:41:41 PM: Compilation took 1.586e-01 seconds\n",
      "(CVXPY) Jul 20 08:41:41 PM: Solver (including time spent in interface) took 3.803e-03 seconds\n",
      "39.239199934084354\n"
     ]
    },
    {
     "data": {
      "image/png": "[encoded data removed]",
      "text/plain": [
       "<Figure size 432x288 with 1 Axes>"
      ]
     },
     "metadata": {},
     "output_type": "display_data"
    }
   ],
   "source": [
    "# init positions\n",
    "boxes = []\n",
    "for i, p in enumerate(range(len(compx))):\n",
    "    boxes.append(Box(compw[i], comph[i], compx[i], compy[i], \n",
    "                     initialr =[not r for r in initrot][i], initialmx=0, initialmy=0, idx=i, \n",
    "                     r=False, pl=False, m=False))\n",
    "\n",
    "fp = FloorPlan(boxes, nets,adj,obj=False,norelpairs=None, ox=minx,oy=miny,boundary_W=maxx-minx, boundary_H=maxy-miny, \n",
    "               margin=0.5,horizontal_orderings=horiz_order, vertical_orderings=vert_order, \n",
    "               max_seconds=3800, num_cores=numCores-1, name=design)\n",
    "p, c = fp.layout()\n",
    "print(fp.h.value)\n",
    "fp.show()"
   ]
  },
  {
   "cell_type": "code",
   "execution_count": 14,
   "metadata": {},
   "outputs": [
    {
     "data": {
      "text/plain": [
       "8"
      ]
     },
     "execution_count": 14,
     "metadata": {},
     "output_type": "execute_result"
    }
   ],
   "source": [
    "xss = []\n",
    "yss = []\n",
    "for box in fp.boxes:\n",
    "    xss.append(box.x.value)\n",
    "    yss.append(box.y.value)\n",
    "xss = np.array(xss)\n",
    "yss = np.array(yss)\n",
    "len(xss)"
   ]
  },
  {
   "cell_type": "code",
   "execution_count": 15,
   "metadata": {},
   "outputs": [],
   "source": [
    "n = len(fp.boxes)\n",
    "unweighted_adj = np.zeros((n,n))\n",
    "for k in range(len(fp.nets)):\n",
    "    net = fp.nets[k]\n",
    "    for pi1, mix1 in enumerate(net.moduleidxs):\n",
    "        for pi2, mix2 in enumerate(net.moduleidxs):\n",
    "            unweighted_adj[mix1,mix2] = 1"
   ]
  },
  {
   "cell_type": "code",
   "execution_count": 16,
   "metadata": {
    "scrolled": true
   },
   "outputs": [
    {
     "data": {
      "text/plain": [
       "<matplotlib.image.AxesImage at 0x7f96745b7580>"
      ]
     },
     "execution_count": 16,
     "metadata": {},
     "output_type": "execute_result"
    },
    {
     "data": {
      "image/png": "[encoded data removed]",
      "text/plain": [
       "<Figure size 432x288 with 1 Axes>"
      ]
     },
     "metadata": {
      "needs_background": "light"
     },
     "output_type": "display_data"
    }
   ],
   "source": [
    "plt.imshow(unweighted_adj)"
   ]
  },
  {
   "cell_type": "code",
   "execution_count": 17,
   "metadata": {},
   "outputs": [],
   "source": [
    "nx = np.array([b.x.value for b in fp.boxes])\n",
    "ny = np.array([b.y.value for b in fp.boxes])"
   ]
  },
  {
   "cell_type": "code",
   "execution_count": 18,
   "metadata": {},
   "outputs": [],
   "source": [
    "w = (unweighted_adj == 1)\n",
    "positions = np.vstack([nx,ny]).T\n",
    "numedges = jnp.where(w == 1)[0].shape[0]\n",
    "edgetensor = np.zeros((numedges,)+positions.shape)\n",
    "edgelist = jnp.where(w == 1)\n",
    "for i in range(numedges):\n",
    "    e1 = edgelist[0][i].item()\n",
    "    e2 = edgelist[1][i].item()\n",
    "    edgetensor[i,e1,0] = 1\n",
    "    edgetensor[i,e2,1] = 1\n",
    "edgetensor = jnp.array(edgetensor)"
   ]
  },
  {
   "cell_type": "code",
   "execution_count": 19,
   "metadata": {},
   "outputs": [
    {
     "data": {
      "text/plain": [
       "'\\nK=w\\npi = jnp.zeros(K.shape)\\nx = jnp.zeros(K.shape)\\nU = jnp.ones((numedges,2))\\nr = jnp.ones(numedges)\\n\\nparams = (U, r)\\n\\nopt_init, opt_update, get_params = optimizers.adam(1e-2, b1=0.9, b2=0.999, eps=1e-08)\\nopt_state = opt_init(params)\\n'"
      ]
     },
     "execution_count": 19,
     "metadata": {},
     "output_type": "execute_result"
    }
   ],
   "source": [
    "seed = 0\n",
    "# initialise an array of 2D positions\n",
    "rng = random.PRNGKey(seed)\n",
    "eps = 1e-8\n",
    "init_positions = random.normal(rng, (n,2))\n",
    "\n",
    "\"\"\"\n",
    "K=w\n",
    "pi = jnp.zeros(K.shape)\n",
    "x = jnp.zeros(K.shape)\n",
    "U = jnp.ones((numedges,2))\n",
    "r = jnp.ones(numedges)\n",
    "\n",
    "params = (U, r)\n",
    "\n",
    "opt_init, opt_update, get_params = optimizers.adam(1e-2, b1=0.9, b2=0.999, eps=1e-08)\n",
    "opt_state = opt_init(params)\n",
    "\"\"\""
   ]
  },
  {
   "cell_type": "code",
   "execution_count": 20,
   "metadata": {},
   "outputs": [],
   "source": [
    "\"\"\"\n",
    "Objectives\n",
    "\"\"\"\n",
    "\n",
    "def pairwise_dist(X):\n",
    "    euc = lambda x: vmap(lambda y: jnp.linalg.norm(jnp.maximum(jnp.abs(x-y), eps))**2)(X)\n",
    "    return vmap(euc)(X)\n",
    "\n",
    "def _ec(X, U_i, r_i, A_i, B_i):\n",
    "    return jnp.linalg.norm(jnp.clip(-A_i.T@X@U_i + (r_i + 1)*jnp.ones(U_i.shape[-1]), eps))**2 + \\\n",
    "           jnp.linalg.norm(jnp.clip(B_i.T@X@U_i - (r_i - 1)*jnp.ones(U_i.shape[-1]), eps))**2\n",
    "    \n",
    "def ec_objective(params, A, B):\n",
    "    X, U, r = params\n",
    "    return jnp.sum(vmap(partial(_ec,X))(U, r, A, B))\n",
    "\n",
    "@jit\n",
    "def ec_step(i, opt_state, edgetensor, fixed_idx=None):\n",
    "    params = get_params(opt_state)\n",
    "    g = grad(ec_objective)(params, edgetensor, edgetensor)\n",
    "    # jax.ops.index_update was deprecated in v0.2.22, now use jax.numpy.ndarray.at\n",
    "    # print(\"g shape: \", len(g))\n",
    "    # print(\"g[0] shape: \", g[0].shape)\n",
    "    # print(\"g[0][fixed_idx] val: \", g[0][jnp.array(fixed_idx)])\n",
    "    g_0 = g[0].at[jnp.array(fixed_idx)].set(0)\n",
    "    # g_0 = g[0].at[jnp.array(fixed_idx)].at[1].set(0)\n",
    "    # g_0 = jax.ops.index_update(g[0], fixed_idx, 0)\n",
    "    g = (g_0,g[1],g[2])\n",
    "    return opt_update(i, g, opt_state)"
   ]
  },
  {
   "cell_type": "code",
   "execution_count": 21,
   "metadata": {},
   "outputs": [],
   "source": [
    "def stress(params, W, D):\n",
    "    X,_,_ = params\n",
    "    pd = pairwise_dist(X)\n",
    "    stress = jnp.multiply(W, jnp.square(pd - D))\n",
    "    return jnp.sum(jnp.triu(stress)) + l*jnp.linalg.norm(X)**2\n",
    "\n",
    "@jit\n",
    "def step(i, opt_state, W, D, idx, fixed_idx=None):\n",
    "    p,U,r = get_params(opt_state)\n",
    "    g = grad(stress)((p[idx],U,r), W[jnp.ix_(idx,idx)], D[jnp.ix_(idx,idx)])\n",
    "    # POTENTIAL BUG: jax.ops.index_add not supported\n",
    "    # indices_are_sorted: whether `idx` is known to be sorted\n",
    "    # unique_indices: whether `idx` is known to be free of duplicates\n",
    "    # g_0 = jax.ops.index_add(jnp.zeros_like(p), idx, g[0], \n",
    "    #                       indices_are_sorted=False, unique_indices=True)\n",
    "    g_0 = jnp.zeros_like(p).at[idx].add(g[0])\n",
    "    # g_0 = jax.ops.index_update(g_0, fixed_idx, 0)\n",
    "    g_0 = g_0.at[jnp.array(fixed_idx)].set(0)\n",
    "    g = (g_0, g[1], g[2])\n",
    "    return opt_update(i, g, opt_state)"
   ]
  },
  {
   "cell_type": "code",
   "execution_count": 22,
   "metadata": {},
   "outputs": [],
   "source": [
    "d = csgraph.shortest_path(adj, directed=False, unweighted=False)\n",
    "d = np.nan_to_num(d,nan=0.0, posinf=np.where(np.isinf(d),-np.Inf,d).max()+1)\n",
    "# weights\n",
    "eps = 1e-8\n",
    "w = jnp.square(jnp.reciprocal(d + np.eye(*d.shape)))\n",
    "w = w - jnp.diag(jnp.diag(w))\n",
    "l = 0\n",
    "dd = np.ones_like(w)\n",
    "for i in range(w.shape[0]):\n",
    "    for j in range(w.shape[1]):\n",
    "        dd[i,j]*=10*(max(comph[i],compw[i]) + max(comph[j],compw[j]))\n",
    "\n",
    "d = d * dd\n",
    "\n",
    "numedges = jnp.where(w == 1)[0].shape[0]\n",
    "edgetensor = np.zeros((numedges,)+positions.shape)\n",
    "edgelist = jnp.where(w == 1)\n",
    "for i in range(numedges):\n",
    "    e1 = edgelist[0][i].item()\n",
    "    e2 = edgelist[1][i].item()\n",
    "    edgetensor[i,e1,0] = 1\n",
    "    edgetensor[i,e2,1] = 1\n",
    "edgetensor = jnp.array(edgetensor)"
   ]
  },
  {
   "cell_type": "code",
   "execution_count": 23,
   "metadata": {},
   "outputs": [
    {
     "data": {
      "text/plain": [
       "<matplotlib.image.AxesImage at 0x7f96746675b0>"
      ]
     },
     "execution_count": 23,
     "metadata": {},
     "output_type": "execute_result"
    },
    {
     "data": {
      "image/png": "[encoded data removed]",
      "text/plain": [
       "<Figure size 432x288 with 1 Axes>"
      ]
     },
     "metadata": {
      "needs_background": "light"
     },
     "output_type": "display_data"
    }
   ],
   "source": [
    "plt.imshow(w)"
   ]
  },
  {
   "cell_type": "code",
   "execution_count": 24,
   "metadata": {},
   "outputs": [],
   "source": [
    "def rescale(X_transformed, minx, maxx, miny, maxy):\n",
    "    X_transformed_x_rescaled = minx + ((X_transformed[:,0] - X_transformed[:,0].min())*(maxx - minx))/(X_transformed[:,0].max() - X_transformed[:,0].min())\n",
    "    X_transformed_y_rescaled = miny + ((X_transformed[:,1] - X_transformed[:,1].min())*(maxy - miny))/(X_transformed[:,1].max() - X_transformed[:,1].min())\n",
    "    #X_transformed_x_rescaled = np.minimum(np.maximum(minx, X_transformed[:,0]+minx+(maxx-minx)/2), maxx)\n",
    "    #X_transformed_y_rescaled = np.minimum(np.maximum(miny, X_transformed[:,1]+miny+(maxy-miny)/2),maxy)\n",
    "    X_transformed_rescaled = np.stack([X_transformed_x_rescaled,X_transformed_y_rescaled],axis=-1)\n",
    "    return X_transformed_rescaled"
   ]
  },
  {
   "cell_type": "code",
   "execution_count": 25,
   "metadata": {},
   "outputs": [],
   "source": [
    "def ulapeig(A, eps=1e-2):\n",
    "    \"\"\"\n",
    "    Compute unnormalized Laplacian eigenmap embedding of a graph.\n",
    "    L = D - A = Z Λ Zᵀ\n",
    "    Returns the vectors Z.\n",
    "    Parameters\n",
    "    ----------\n",
    "    A: (n_nodes x n_nodes) adjacency matrix\n",
    "    Returns\n",
    "    -------\n",
    "    E: (n_nodes x n_nodes) Laplacian embeddings\n",
    "    \"\"\"\n",
    "    D = np.diag(np.sum(A, axis=1))\n",
    "    L = D - A\n",
    "    W, E = np.linalg.eigh(L)\n",
    "    E = E @ np.diag(np.sign(W))\n",
    "    return np.real(E)"
   ]
  },
  {
   "cell_type": "code",
   "execution_count": 26,
   "metadata": {},
   "outputs": [],
   "source": [
    "def compute_structure_preserving_embedding(A, C = 100.0, verbose = False):\n",
    "    \"\"\"\n",
    "    Compute the structure-preserving embedding of a graph using CVXPY.\n",
    "    This does not actually scale beyond 10 x 10 or so.\n",
    "    \n",
    "    Parameters\n",
    "    ----------\n",
    "    A: (n_nodes x n_nodes) adjacency matrix\n",
    "    Returns\n",
    "    -------\n",
    "    E: (n_nodes x n_nodes) LLE embeddings\n",
    "    \"\"\"\n",
    "    n_nodes, _ = A.shape\n",
    "\n",
    "    K = cp.Variable((n_nodes, n_nodes), PSD = True)\n",
    "    xi = cp.Variable(1)\n",
    "\n",
    "    D = cp.bmat([[K[i, i] + K[j, j] - 2 * K[i, j] \\\n",
    "                  for j in range(n_nodes)] \\\n",
    "                  for i in range(n_nodes)])\n",
    "    M = cp.max(D, axis = 1)\n",
    "    \n",
    "    objective = cp.Maximize(cp.trace(K @ A) - C * xi)\n",
    "    constraints = [cp.trace(K) <= 1, xi >= 0, cp.sum(K) == 0]\n",
    "    for i, j in itertools.combinations(range(n_nodes), 2):\n",
    "        constraints += [D[i, j] >= (1 - A[i, j]) * M[i] - xi]\n",
    "\n",
    "    problem = cp.Problem(objective, constraints)\n",
    "    result = problem.solve(verbose = verbose, solver = \"SCS\")\n",
    "    \n",
    "    L, Z = np.linalg.eigh(K.value)\n",
    "    return Z"
   ]
  },
  {
   "cell_type": "code",
   "execution_count": 27,
   "metadata": {},
   "outputs": [
    {
     "name": "stdout",
     "output_type": "stream",
     "text": [
      "1\n"
     ]
    },
    {
     "data": {
      "image/png": "[encoded data removed]",
      "text/plain": [
       "<Figure size 432x288 with 1 Axes>"
      ]
     },
     "metadata": {
      "needs_background": "light"
     },
     "output_type": "display_data"
    }
   ],
   "source": [
    "seed = 0\n",
    "# initialise an array of 2D positions\n",
    "rng = random.PRNGKey(seed)\n",
    "\n",
    "K=w\n",
    "pi = jnp.zeros(K.shape)\n",
    "x = jnp.zeros(K.shape)\n",
    "U = jnp.ones((numedges,2))\n",
    "r = jnp.ones(numedges)\n",
    "# show the shortest paths in a heat map.\n",
    "# If any squares are white, then infinite paths exist and the algorithm will fail.\n",
    "plt.imshow(d)\n",
    "n = d.shape[0]\n",
    "fixed_idx = [i for i,m in enumerate(movable) if m==False]\n",
    "\n",
    "print(len(fixed_idx))\n",
    "\n",
    "embedding = SpectralEmbedding(n_components=2, affinity='precomputed')\n",
    "X_transformed = embedding.fit_transform(w)\n",
    "#X_transformed = np.asarray(random.normal(rng, (n,2)))\n",
    "\n",
    "\n",
    "X_transformed_rescaled = rescale(X_transformed, minx, maxx, miny, maxy)\n",
    "init_positions = np.array([ip if movable[i]==True else [compx[i],compy[i]] \n",
    "                           for i,ip in enumerate(X_transformed_rescaled) ])\n",
    "params = (init_positions, U, r)\n",
    "opt_init, opt_update, get_params = optimizers.adam(5e-2, b1=0.9, b2=0.999, eps=1e-08)\n",
    "opt_state = opt_init(params)"
   ]
  },
  {
   "cell_type": "code",
   "execution_count": 28,
   "metadata": {},
   "outputs": [
    {
     "data": {
      "text/plain": [
       "8"
      ]
     },
     "execution_count": 28,
     "metadata": {},
     "output_type": "execute_result"
    }
   ],
   "source": [
    "len(w)"
   ]
  },
  {
   "cell_type": "code",
   "execution_count": 29,
   "metadata": {},
   "outputs": [
    {
     "data": {
      "text/plain": [
       "'\\ndegree = np.zeros(len(w)) # initialize list to hold values of degree\\n\\n# calculate the sums along rows and sum along columns\\ncolsum = w.sum(axis=0)\\nrowsum = w.sum(axis=1)\\n\\n# loop through matrix and add up all degree connections\\nfor j in range(0, len(w)):\\n    degree[j] = colsum[j] + rowsum[j]\\n\\n# get the diagonal entries to correct the for loop oversumming\\nA = w.diagonal()\\nd = A.flatten()\\ndiagMat = list(d)\\n\\n# print the degree of connectivity matrix \\nnp.diag(degree - diagMat)\\nnp.dot(np.matmul(X_transformed[:,0],np.diag(degree - diagMat)), np.ones_like(X_transformed[:,0]))\\n'"
      ]
     },
     "execution_count": 29,
     "metadata": {},
     "output_type": "execute_result"
    }
   ],
   "source": [
    "\"\"\"\n",
    "degree = np.zeros(len(w)) # initialize list to hold values of degree\n",
    "\n",
    "# calculate the sums along rows and sum along columns\n",
    "colsum = w.sum(axis=0)\n",
    "rowsum = w.sum(axis=1)\n",
    "\n",
    "# loop through matrix and add up all degree connections\n",
    "for j in range(0, len(w)):\n",
    "    degree[j] = colsum[j] + rowsum[j]\n",
    "\n",
    "# get the diagonal entries to correct the for loop oversumming\n",
    "A = w.diagonal()\n",
    "d = A.flatten()\n",
    "diagMat = list(d)\n",
    "\n",
    "# print the degree of connectivity matrix \n",
    "np.diag(degree - diagMat)\n",
    "np.dot(np.matmul(X_transformed[:,0],np.diag(degree - diagMat)), np.ones_like(X_transformed[:,0]))\n",
    "\"\"\""
   ]
  },
  {
   "cell_type": "code",
   "execution_count": 30,
   "metadata": {
    "scrolled": true
   },
   "outputs": [
    {
     "name": "stdout",
     "output_type": "stream",
     "text": [
      "Compiled constraints\n",
      "===============================================================================\n",
      "                                     CVXPY                                     \n",
      "                                    v1.1.13                                    \n",
      "===============================================================================\n",
      "(CVXPY) Jul 20 08:41:45 PM: Your problem has 108 variables, 312 constraints, and 0 parameters.\n",
      "(CVXPY) Jul 20 08:41:45 PM: It is compliant with the following grammars: DCP, DQCP\n",
      "(CVXPY) Jul 20 08:41:45 PM: (If you need to solve this problem multiple times, but with different data, consider using parameters.)\n",
      "(CVXPY) Jul 20 08:41:45 PM: CVXPY will first compile your problem; then, it will invoke a numerical solver to obtain a solution.\n",
      "-------------------------------------------------------------------------------\n",
      "                                  Compilation                                  \n",
      "-------------------------------------------------------------------------------\n",
      "(CVXPY) Jul 20 08:41:45 PM: Compiling problem (target solver=CBC).\n",
      "(CVXPY) Jul 20 08:41:45 PM: Reduction chain: Dcp2Cone -> CvxAttr2Constr -> ConeMatrixStuffing -> CBC\n",
      "(CVXPY) Jul 20 08:41:45 PM: Applying reduction Dcp2Cone\n",
      "(CVXPY) Jul 20 08:41:45 PM: Applying reduction CvxAttr2Constr\n",
      "(CVXPY) Jul 20 08:41:45 PM: Applying reduction ConeMatrixStuffing\n",
      "(CVXPY) Jul 20 08:41:45 PM: Applying reduction CBC\n",
      "(CVXPY) Jul 20 08:41:45 PM: Finished problem compilation (took 1.182e-01 seconds).\n",
      "-------------------------------------------------------------------------------\n",
      "                                Numerical solver                               \n",
      "-------------------------------------------------------------------------------\n",
      "(CVXPY) Jul 20 08:41:45 PM: Invoking solver CBC  to obtain a solution.\n",
      "-------------------------------------------------------------------------------\n",
      "                                    Summary                                    \n",
      "-------------------------------------------------------------------------------\n",
      "(CVXPY) Jul 20 08:41:45 PM: Problem status: optimal\n",
      "Welcome to the CBC MILP Solver \n",
      "Version: 2.10.10 \n",
      "Build Date: Apr 21 2023 \n",
      "\n",
      "command line - ICbcModel -solve -quit (default strategy 1)\n",
      "(CVXPY) Jul 20 08:41:45 PM: Optimal value: 0.000e+00\n",
      "Continuous objective value is 0 - 0.00 seconds\n",
      "Cgl0002I 80 variables fixed\n",
      "Cgl0004I processed model has 0 rows, 0 columns (0 integer (0 of which binary)) and 0 elements\n",
      "Cbc3007W No integer variables - nothing to do\n",
      "Cuts at root node changed objective from 0 to -1.79769e+308\n",
      "Probing was tried 0 times and created 0 cuts of which 0 were active after adding rounds of cuts (0.000 seconds)\n",
      "Gomory was tried 0 times and created 0 cuts of which 0 were active after adding rounds of cuts (0.000 seconds)\n",
      "Knapsack was tried 0 times and created 0 cuts of which 0 were active after adding rounds of cuts (0.000 seconds)\n",
      "Clique was tried 0 times and created 0 cuts of which 0 were active after adding rounds of cuts (0.000 seconds)\n",
      "MixedIntegerRounding2 was tried 0 times and created 0 cuts of which 0 were active after adding rounds of cuts (0.000 seconds)\n",
      "FlowCover was tried 0 times and created 0 cuts of which 0 were active after adding rounds of cuts (0.000 seconds)\n",
      "TwoMirCuts was tried 0 times and created 0 cuts of which 0 were active after adding rounds of cuts (0.000 seconds)\n",
      "ZeroHalf was tried 0 times and created 0 cuts of which 0 were active after adding rounds of cuts (0.000 seconds)\n",
      "\n",
      "Result - Optimal solution found\n",
      "\n",
      "Objective value:                0.00000000\n",
      "Enumerated nodes:               0\n",
      "Total iterations:               19\n",
      "Time (CPU seconds):             0.00\n",
      "Time (Wallclock seconds):       0.00\n",
      "\n",
      "Total time (CPU seconds):       0.00   (Wallclock seconds):       0.00\n",
      "\n",
      "(CVXPY) Jul 20 08:41:45 PM: Compilation took 1.182e-01 seconds\n",
      "(CVXPY) Jul 20 08:41:45 PM: Solver (including time spent in interface) took 4.003e-03 seconds\n"
     ]
    },
    {
     "data": {
      "image/png": "[encoded data removed]",
      "text/plain": [
       "<Figure size 432x288 with 1 Axes>"
      ]
     },
     "metadata": {},
     "output_type": "display_data"
    }
   ],
   "source": [
    "# init positions\n",
    "boxes = []\n",
    "for i, p in enumerate(init_positions):\n",
    "    boxes.append(Box(compw[i], comph[i], p[0], p[1], \n",
    "                     initialr =[not r for r in initrot][i], initialmx=0, initialmy=0, idx=i, \n",
    "                     r=False, pl=False, m=False))\n",
    "\n",
    "fp = FloorPlan(boxes, nets,adj,obj=False,norelpairs=None, ox=minx,oy=miny,boundary_W=maxx-minx, boundary_H=maxy-miny, \n",
    "               margin=0.5,horizontal_orderings=horiz_order, vertical_orderings=vert_order, \n",
    "               max_seconds=1800, num_cores=numCores-1, name=design)\n",
    "p, c = fp.layout()\n",
    "fp.show()"
   ]
  },
  {
   "cell_type": "code",
   "execution_count": 31,
   "metadata": {},
   "outputs": [
    {
     "name": "stdout",
     "output_type": "stream",
     "text": [
      "Compiled constraints\n",
      "===============================================================================\n",
      "                                     CVXPY                                     \n",
      "                                    v1.1.13                                    \n",
      "===============================================================================\n",
      "(CVXPY) Jul 20 08:41:45 PM: Your problem has 108 variables, 312 constraints, and 0 parameters.\n",
      "(CVXPY) Jul 20 08:41:45 PM: It is compliant with the following grammars: DCP, DQCP\n",
      "(CVXPY) Jul 20 08:41:45 PM: (If you need to solve this problem multiple times, but with different data, consider using parameters.)\n",
      "(CVXPY) Jul 20 08:41:45 PM: CVXPY will first compile your problem; then, it will invoke a numerical solver to obtain a solution.\n",
      "-------------------------------------------------------------------------------\n",
      "                                  Compilation                                  \n",
      "-------------------------------------------------------------------------------\n",
      "(CVXPY) Jul 20 08:41:45 PM: Compiling problem (target solver=CBC).\n",
      "(CVXPY) Jul 20 08:41:45 PM: Reduction chain: Dcp2Cone -> CvxAttr2Constr -> ConeMatrixStuffing -> CBC\n",
      "(CVXPY) Jul 20 08:41:45 PM: Applying reduction Dcp2Cone\n",
      "(CVXPY) Jul 20 08:41:45 PM: Applying reduction CvxAttr2Constr\n",
      "(CVXPY) Jul 20 08:41:45 PM: Applying reduction ConeMatrixStuffing\n",
      "(CVXPY) Jul 20 08:41:45 PM: Applying reduction CBC\n",
      "(CVXPY) Jul 20 08:41:45 PM: Finished problem compilation (took 1.106e-01 seconds).\n",
      "-------------------------------------------------------------------------------\n",
      "                                Numerical solver                               \n",
      "-------------------------------------------------------------------------------\n",
      "(CVXPY) Jul 20 08:41:45 PM: Invoking solver CBC  to obtain a solution.\n",
      "-------------------------------------------------------------------------------\n",
      "                                    Summary                                    \n",
      "-------------------------------------------------------------------------------\n",
      "(CVXPY) Jul 20 08:41:45 PM: Problem status: optimal\n",
      "Welcome to the CBC MILP Solver \n",
      "Version: 2.10.10 \n",
      "Build Date: Apr 21 2023 \n",
      "\n",
      "command line - ICbcModel -solve -quit (default strategy 1)\n",
      "(CVXPY) Jul 20 08:41:45 PM: Optimal value: 0.000e+00\n",
      "(CVXPY) Jul 20 08:41:45 PM: Compilation took 1.106e-01 seconds\n",
      "Continuous objective value is 0 - 0.00 seconds\n",
      "Cgl0002I 80 variables fixed\n",
      "Cgl0004I processed model has 0 rows, 0 columns (0 integer (0 of which binary)) and 0 elements\n",
      "Cbc3007W No integer variables - nothing to do\n",
      "Cuts at root node changed objective from 0 to -1.79769e+308\n",
      "Probing was tried 0 times and created 0 cuts of which 0 were active after adding rounds of cuts (0.000 seconds)\n",
      "Gomory was tried 0 times and created 0 cuts of which 0 were active after adding rounds of cuts (0.000 seconds)\n",
      "Knapsack was tried 0 times and created 0 cuts of which 0 were active after adding rounds of cuts (0.000 seconds)\n",
      "Clique was tried 0 times and created 0 cuts of which 0 were active after adding rounds of cuts (0.000 seconds)\n",
      "MixedIntegerRounding2 was tried 0 times and created 0 cuts of which 0 were active after adding rounds of cuts (0.000 seconds)\n",
      "FlowCover was tried 0 times and created 0 cuts of which 0 were active after adding rounds of cuts (0.000 seconds)\n",
      "TwoMirCuts was tried 0 times and created 0 cuts of which 0 were active after adding rounds of cuts (0.000 seconds)\n",
      "ZeroHalf was tried 0 times and created 0 cuts of which 0 were active after adding rounds of cuts (0.000 seconds)\n",
      "\n",
      "Result - Optimal solution found\n",
      "\n",
      "Objective value:                0.00000000\n",
      "Enumerated nodes:               0\n",
      "Total iterations:               19\n",
      "Time (CPU seconds):             0.00\n",
      "Time (Wallclock seconds):       0.00\n",
      "\n",
      "Total time (CPU seconds):       0.00   (Wallclock seconds):       0.00\n",
      "\n",
      "(CVXPY) Jul 20 08:41:45 PM: Solver (including time spent in interface) took 3.645e-03 seconds\n"
     ]
    },
    {
     "data": {
      "image/png": "[encoded data removed]",
      "text/plain": [
       "<Figure size 432x288 with 1 Axes>"
      ]
     },
     "metadata": {},
     "output_type": "display_data"
    },
    {
     "data": {
      "application/vnd.jupyter.widget-view+json": {
       "model_id": "63cc824fb19d4008872dbbd411de83df",
       "version_major": 2,
       "version_minor": 0
      },
      "text/plain": [
       "  0%|          | 0/1000 [00:00<?, ?it/s]"
      ]
     },
     "metadata": {},
     "output_type": "display_data"
    },
    {
     "data": {
      "image/png": "[encoded data removed]",
      "text/plain": [
       "<Figure size 432x288 with 1 Axes>"
      ]
     },
     "metadata": {
      "needs_background": "light"
     },
     "output_type": "display_data"
    }
   ],
   "source": [
    "pl_hist = []\n",
    "for _ in range(4):\n",
    "    X_transformed = X_transformed[:,[1,0]]\n",
    "    X_transformed[:,1]*=-1\n",
    "\n",
    "    X_transformed_rescaled = rescale(X_transformed, minx, maxx, miny, maxy)\n",
    "    init_positions = np.array([ip if movable[i]==True else [compx[i],compy[i]] \n",
    "                               for i,ip in enumerate(X_transformed_rescaled) ])\n",
    "    params = (init_positions, U, r)\n",
    "    opt_init, opt_update, get_params = optimizers.adam(1e-1, b1=0.9, b2=0.999, eps=1e-08)\n",
    "    opt_state = opt_init(params)    \n",
    "    \n",
    "    # init positions\n",
    "    boxes = []\n",
    "    for i, p in enumerate(init_positions):\n",
    "        boxes.append(Box(compw[i], comph[i], p[0], p[1], \n",
    "                         initialr =[not r for r in initrot][i], initialmx=0, initialmy=0, idx=i, \n",
    "                         r=False, pl=False, m=False))\n",
    "\n",
    "    fp = FloorPlan(boxes, nets,adj,obj=False,norelpairs=None, ox=minx,oy=miny,boundary_W=maxx-minx, boundary_H=maxy-miny, \n",
    "                   margin=0.5,horizontal_orderings=horiz_order, vertical_orderings=vert_order, \n",
    "                   max_seconds=1800, num_cores=numCores-1, name=design)\n",
    "    p, c = fp.layout()\n",
    "    fp.show()\n",
    "    \n",
    "    eta=1e-2\n",
    "    l=1e-1\n",
    "    itercount = itertools.count()\n",
    "\n",
    "    stress_hist = []\n",
    "    ec_hist = []\n",
    "    cvx_clst_hist = []\n",
    "    param_hist = []\n",
    "\n",
    "    for i in tqdm(range(1000)):\n",
    "        idx = np.arange(n)\n",
    "        opt_state = ec_step(i, opt_state, edgetensor, fixed_idx=fixed_idx)\n",
    "        opt_state = step(i, opt_state, w, d, idx, fixed_idx=fixed_idx)\n",
    "\n",
    "        params = get_params(opt_state)\n",
    "        param_hist.append(params)\n",
    "        stress_hist.append(stress(params, w, d))\n",
    "        ec_hist.append(ec_objective(params, edgetensor, edgetensor))\n",
    "\n",
    "    end = datetime.datetime.now()\n",
    "    plt.plot(stress_hist)\n",
    "    plt.title(stress(params, w, d))\n",
    "    pl_hist.append(param_hist)\n",
    "    break"
   ]
  },
  {
   "cell_type": "code",
   "execution_count": 32,
   "metadata": {},
   "outputs": [
    {
     "data": {
      "application/vnd.jupyter.widget-view+json": {
       "model_id": "074586fd43cc46508f4735a4c83b5bd4",
       "version_major": 2,
       "version_minor": 0
      },
      "text/plain": [
       "  0%|          | 0/1000 [00:00<?, ?it/s]"
      ]
     },
     "metadata": {},
     "output_type": "display_data"
    },
    {
     "data": {
      "text/plain": [
       "Text(0.5, 1.0, '62332.5')"
      ]
     },
     "execution_count": 32,
     "metadata": {},
     "output_type": "execute_result"
    },
    {
     "data": {
      "image/png": "[encoded data removed]",
      "text/plain": [
       "<Figure size 432x288 with 1 Axes>"
      ]
     },
     "metadata": {
      "needs_background": "light"
     },
     "output_type": "display_data"
    }
   ],
   "source": [
    "eta=1e-2\n",
    "l=1e-1\n",
    "itercount = itertools.count()\n",
    "\n",
    "stress_hist = []\n",
    "ec_hist = []\n",
    "cvx_clst_hist = []\n",
    "param_hist = []\n",
    "\n",
    "for i in tqdm(range(1000)):\n",
    "    idx = np.arange(n)\n",
    "    for _ in range(40):\n",
    "        opt_state = ec_step(i, opt_state, edgetensor, fixed_idx=fixed_idx)\n",
    "    opt_state = step(i, opt_state, w, d, idx, fixed_idx=fixed_idx)\n",
    "    \n",
    "    params = get_params(opt_state)\n",
    "    param_hist.append(params)\n",
    "    stress_hist.append(stress(params, w, d))\n",
    "    ec_hist.append(ec_objective(params, edgetensor, edgetensor))\n",
    "        \n",
    "end = datetime.datetime.now()\n",
    "plt.plot(stress_hist)\n",
    "plt.title(stress(params, w, d))"
   ]
  },
  {
   "cell_type": "code",
   "execution_count": 33,
   "metadata": {},
   "outputs": [],
   "source": [
    "param_hist = pl_hist[0]"
   ]
  },
  {
   "cell_type": "code",
   "execution_count": 34,
   "metadata": {},
   "outputs": [],
   "source": [
    "positions,_,_ = param_hist[0]"
   ]
  },
  {
   "cell_type": "code",
   "execution_count": 35,
   "metadata": {
    "scrolled": true
   },
   "outputs": [
    {
     "data": {
      "text/plain": [
       "<matplotlib.collections.PathCollection at 0x7f9674a39100>"
      ]
     },
     "execution_count": 35,
     "metadata": {},
     "output_type": "execute_result"
    },
    {
     "data": {
      "image/png": "[encoded data removed]",
      "text/plain": [
       "<Figure size 1440x720 with 1 Axes>"
      ]
     },
     "metadata": {
      "needs_background": "light"
     },
     "output_type": "display_data"
    }
   ],
   "source": [
    "plt.figure(figsize=(20,10))\n",
    "ax = plt.axes()\n",
    "ax.set_xlim(min(positions[:,0])-1, max(positions[:,0])+1)\n",
    "ax.set_ylim(min(positions[:,1])-1, max(positions[:,1])+1)\n",
    "\n",
    "lines = []\n",
    "for i,j in zip(*adj.nonzero()):\n",
    "    if i > j:\n",
    "        lines.append([positions[i], positions[j]])\n",
    "\n",
    "lc = mc.LineCollection(lines, linewidths=1, colors='k', alpha=.25)\n",
    "ax.add_collection(lc)\n",
    "ax.scatter(positions[:,0], positions[:,1], s=5)\n",
    "#plt.savefig(graph_name + '.svg', format='svg', dpi=1000)"
   ]
  },
  {
   "cell_type": "code",
   "execution_count": 36,
   "metadata": {},
   "outputs": [
    {
     "data": {
      "text/plain": [
       "'\\nimport time\\nfrom IPython.display import clear_output\\n\\nidx = np.linspace(0, len(param_hist)-1, num=25,dtype=int)\\nfor _ in range(1):\\n    for j in idx:\\n        positions,_,_ = param_hist[j]\\n        \\n        positions_x_rescaled = minx + ((positions[:,0] - positions[:,0].min())*(maxx - minx))/(positions[:,0].max() - positions[:,0].min())\\n        positions_y_rescaled = miny + ((positions[:,1] - positions[:,1].min())*(maxy - miny))/(positions[:,1].max() - positions[:,1].min())\\n        positions_rescaled = np.stack([positions_x_rescaled,positions_y_rescaled],axis=-1)\\n        fixed_idx = [i for i,m in enumerate(movable) if m==False]\\n        positions = np.array([ip if movable[i]==True else [compx[i],compy[i]] \\n                                   for i,ip in enumerate(positions_rescaled) ])\\n        \\n        boxes = []\\n        for i in range(len(compw)):\\n            boxes.append(Box(compw[i], comph[i], positions[i,0].item(), positions[i,1].item(), \\n                             initialr =[not r for r in initrot][i], initialmx=0, initialmy=0, idx=i, \\n                             r=False, pl=False, m=False))\\n\\n        fp = FloorPlan(boxes, nets,adj,obj=False,norelpairs=None, ox=minx,oy=miny,boundary_W=maxx-minx, boundary_H=maxy-miny, \\n                       margin=0.5,horizontal_orderings=horiz_order, vertical_orderings=vert_order, \\n                       max_seconds=3600, num_cores=numCores-1, name=design)\\n        p, c = fp.layout()\\n        clear_output(wait=True)\\n        fp.show(True,j)\\n        time.sleep(0.1)\\n    '"
      ]
     },
     "execution_count": 36,
     "metadata": {},
     "output_type": "execute_result"
    }
   ],
   "source": [
    "\"\"\"\n",
    "import time\n",
    "from IPython.display import clear_output\n",
    "\n",
    "idx = np.linspace(0, len(param_hist)-1, num=25,dtype=int)\n",
    "for _ in range(1):\n",
    "    for j in idx:\n",
    "        positions,_,_ = param_hist[j]\n",
    "        \n",
    "        positions_x_rescaled = minx + ((positions[:,0] - positions[:,0].min())*(maxx - minx))/(positions[:,0].max() - positions[:,0].min())\n",
    "        positions_y_rescaled = miny + ((positions[:,1] - positions[:,1].min())*(maxy - miny))/(positions[:,1].max() - positions[:,1].min())\n",
    "        positions_rescaled = np.stack([positions_x_rescaled,positions_y_rescaled],axis=-1)\n",
    "        fixed_idx = [i for i,m in enumerate(movable) if m==False]\n",
    "        positions = np.array([ip if movable[i]==True else [compx[i],compy[i]] \n",
    "                                   for i,ip in enumerate(positions_rescaled) ])\n",
    "        \n",
    "        boxes = []\n",
    "        for i in range(len(compw)):\n",
    "            boxes.append(Box(compw[i], comph[i], positions[i,0].item(), positions[i,1].item(), \n",
    "                             initialr =[not r for r in initrot][i], initialmx=0, initialmy=0, idx=i, \n",
    "                             r=False, pl=False, m=False))\n",
    "\n",
    "        fp = FloorPlan(boxes, nets,adj,obj=False,norelpairs=None, ox=minx,oy=miny,boundary_W=maxx-minx, boundary_H=maxy-miny, \n",
    "                       margin=0.5,horizontal_orderings=horiz_order, vertical_orderings=vert_order, \n",
    "                       max_seconds=3600, num_cores=numCores-1, name=design)\n",
    "        p, c = fp.layout()\n",
    "        clear_output(wait=True)\n",
    "        fp.show(True,j)\n",
    "        time.sleep(0.1)\n",
    "    \"\"\""
   ]
  },
  {
   "cell_type": "code",
   "execution_count": 37,
   "metadata": {
    "scrolled": true
   },
   "outputs": [
    {
     "data": {
      "image/png": "[encoded data removed]",
      "text/plain": [
       "<Figure size 432x288 with 1 Axes>"
      ]
     },
     "metadata": {},
     "output_type": "display_data"
    }
   ],
   "source": [
    "fp.show()"
   ]
  },
  {
   "cell_type": "code",
   "execution_count": 38,
   "metadata": {
    "scrolled": true
   },
   "outputs": [],
   "source": [
    "positions,_,_ = param_hist[-1]\n",
    "positions_x_rescaled = minx + ((positions[:,0] - positions[:,0].min())*(maxx - minx))/(positions[:,0].max() - positions[:,0].min())\n",
    "positions_y_rescaled = miny + ((positions[:,1] - positions[:,1].min())*(maxy - miny))/(positions[:,1].max() - positions[:,1].min())\n",
    "positions_rescaled = np.stack([positions_x_rescaled,positions_y_rescaled],axis=-1)\n",
    "fixed_idx = [i for i,m in enumerate(movable) if m==False]\n",
    "positions = np.array([ip if movable[i]==True else [compx[i],compy[i]] \n",
    "                           for i,ip in enumerate(positions_rescaled) ])\n",
    "\n",
    "boxes = []\n",
    "for i in range(len(compw)):\n",
    "    boxes.append(Box(compw[i], comph[i], positions[i,0].item(), positions[i,1].item(), \n",
    "                     initialr =[not r for r in initrot][i], initialmx=0, initialmy=0, idx=i, \n",
    "                     r=movable[i], pl=movable[i], m=False))\n",
    "                     #r=False, pl=False, m=False))\n",
    "\n",
    "#fp = FloorPlan(boxes, nets,adj,obj=False,norelpairs=None, ox=minx,oy=miny,boundary_W=maxx-minx, boundary_H=maxy-miny, \n",
    "#               margin=0.5,horizontal_orderings=horiz_order, vertical_orderings=vert_order, \n",
    "#               max_seconds=1800, num_cores=numCores-1, name=design)\n",
    "#p, c = fp.layout()\n",
    "#clear_output(wait=True)\n",
    "#fp.show()"
   ]
  },
  {
   "cell_type": "code",
   "execution_count": 39,
   "metadata": {},
   "outputs": [
    {
     "name": "stdout",
     "output_type": "stream",
     "text": [
      "num constrants: 0 0\n"
     ]
    }
   ],
   "source": [
    "# order constraints\n",
    "vo = []\n",
    "ho = []\n",
    "\n",
    "norelpairs = []\n",
    "\n",
    "\n",
    "for i1, x1 in enumerate(param_hist[-1][0]):\n",
    "    for i2, x2 in enumerate(param_hist[-1][0]):\n",
    "        if i2 <= i1 or ((not movable[i1]) or (not movable[i2])):\n",
    "            continue\n",
    "        # if distance greater than threshold\n",
    "        if max(abs(x1[0] - x2[0]), abs(x1[1] - x2[1])) > 25:\n",
    "            if abs(x1[0] - x2[0]) < abs(x1[1] - x2[1]):\n",
    "                if x1[1] < x2[1]:\n",
    "                    vo.append([i1, i2])\n",
    "                else:\n",
    "                    vo.append([i2,i1])\n",
    "            else:\n",
    "                if x1[0] < x2[0]:\n",
    "                    ho.append([i1, i2])\n",
    "                else:\n",
    "                    ho.append([i2,i1]) \n",
    "        else:\n",
    "            norelpairs.append([i1,i2])\n",
    "\n",
    "horiz_order = [[boxes[i] for i in h] for h in ho]\n",
    "vert_order = [[boxes[i] for i in v] for v in vo]\n",
    "print('num constrants:',len(horiz_order),len(vert_order))\n",
    "fp = FloorPlan(boxes, nets,adj,obj=True,norelpairs=None, ox=minx,oy=miny,boundary_W=maxx-minx, boundary_H=maxy-miny, \n",
    "               margin=0.5,horizontal_orderings=horiz_order, vertical_orderings=vert_order, \n",
    "               max_seconds=3800, num_cores=numCores-1, name=design)"
   ]
  },
  {
   "cell_type": "code",
   "execution_count": 40,
   "metadata": {},
   "outputs": [
    {
     "name": "stdout",
     "output_type": "stream",
     "text": [
      "Compiled constraints\n",
      "===============================================================================\n",
      "                                     CVXPY                                     \n",
      "                                    v1.1.13                                    \n",
      "===============================================================================\n",
      "(CVXPY) Jul 20 08:42:05 PM: Your problem has 261 variables, 648 constraints, and 0 parameters.\n",
      "(CVXPY) Jul 20 08:42:05 PM: It is compliant with the following grammars: DCP, DQCP\n",
      "(CVXPY) Jul 20 08:42:05 PM: (If you need to solve this problem multiple times, but with different data, consider using parameters.)\n",
      "(CVXPY) Jul 20 08:42:05 PM: CVXPY will first compile your problem; then, it will invoke a numerical solver to obtain a solution.\n",
      "-------------------------------------------------------------------------------\n",
      "                                  Compilation                                  \n",
      "-------------------------------------------------------------------------------\n",
      "(CVXPY) Jul 20 08:42:05 PM: Compiling problem (target solver=CBC).\n",
      "(CVXPY) Jul 20 08:42:05 PM: Reduction chain: Dcp2Cone -> CvxAttr2Constr -> ConeMatrixStuffing -> CBC\n",
      "(CVXPY) Jul 20 08:42:05 PM: Applying reduction Dcp2Cone\n",
      "(CVXPY) Jul 20 08:42:05 PM: Applying reduction CvxAttr2Constr\n",
      "(CVXPY) Jul 20 08:42:05 PM: Applying reduction ConeMatrixStuffing\n",
      "(CVXPY) Jul 20 08:42:05 PM: Applying reduction CBC\n",
      "(CVXPY) Jul 20 08:42:06 PM: Finished problem compilation (took 4.255e-01 seconds).\n",
      "-------------------------------------------------------------------------------\n",
      "                                Numerical solver                               \n",
      "-------------------------------------------------------------------------------\n",
      "(CVXPY) Jul 20 08:42:06 PM: Invoking solver CBC  to obtain a solution.\n",
      "Welcome to the CBC MILP Solver \n",
      "Version: 2.10.10 \n",
      "Build Date: Apr 21 2023 \n",
      "\n",
      "command line - ICbcModel -solve -quit (default strategy 1)\n",
      "-------------------------------------------------------------------------------\n",
      "                                    Summary                                    \n",
      "-------------------------------------------------------------------------------\n",
      "(CVXPY) Jul 20 08:42:07 PM: Problem status: optimal\n",
      "Continuous objective value is 2.01 - 0.00 seconds\n",
      "Cgl0002I 38 variables fixed\n",
      "Cgl0009I 16 elements changed\n",
      "Cgl0003I 14 fixed, 0 tightened bounds, 7 strengthened rows, 225 substitutions\n",
      "Cgl0003I 0 fixed, 0 tightened bounds, 57 strengthened rows, 20 substitutions\n",
      "Cgl0003I 0 fixed, 0 tightened bounds, 23 strengthened rows, 0 substitutions\n",
      "Cgl0004I processed model has 162 rows, 93 columns (49 integer (49 of which binary)) and 652 elements\n",
      "Cbc0031I 27 added rows had average density of 26.407407\n",
      "Cbc0013I At root node, 27 cuts changed objective from 13.181 to 20.828035 in 100 passes\n",
      "Cbc0014I Cut generator 0 (Probing) - 48 row cuts average 4.2 elements, 0 column cuts (7 active)  in 0.006 seconds - new frequency is -100\n",
      "Cbc0014I Cut generator 1 (Gomory) - 1010 row cuts average 35.7 elements, 0 column cuts (0 active)  in 0.011 seconds - new frequency is 1\n",
      "Cbc0014I Cut generator 2 (Knapsack) - 0 row cuts average 0.0 elements, 0 column cuts (0 active)  in 0.003 seconds - new frequency is -100\n",
      "Cbc0(CVXPY) Jul 20 08:42:07 PM: Optimal value: 3.381e+01\n",
      "014I Cut generator 3 (Clique) - 0 row cuts average 0.0 elements, 0 column cuts (0 active)  in 0.001 seconds - new frequency is -100\n",
      "Cbc0014I Cut generator 4 (MixedIntegerRounding2) - 96 row cuts average 3.4 elements, 0 column cuts (0 active)  in 0.006 seconds - new frequency is 1\n",
      "Cbc0014I Cut generator 5 (FlowCover) - 12 row cuts average 3.0 elements, 0 column cuts (0 active)  in 0.006 seconds - new frequency is -100\n",
      "Cbc0010I After 0 nodes, 1 on tree, 1e+50 best solution, best possible 20.828035 (0.09 seconds)\n",
      "Cbc0012I Integer solution of 44.7192 found by DiveCoefficient after 2636 iterations and 2 nodes (0.11 seconds)\n",
      "Cbc0038I Full problem 162 rows 93 columns, reduced to 117 rows 55 columns\n",
      "Cbc0038I Full problem 162 rows 93 columns, reduced to 106 rows 57 columns\n",
      "Cbc0038I Full problem 162 rows 93 columns, reduced to 111 rows 58 columns\n",
      "Cbc0004I Integer solution of 41.938 found after 9753 iterations and 162 nodes (0.32 seconds)\n",
      "Cbc0016I Integer solution of 39.8626 found by strong branc(CVXPY) Jul 20 08:42:07 PM: Compilation took 4.255e-01 seconds\n",
      "hing after 13502 iterations and 240 nodes (0.41 seconds)\n",
      "Cbc0016I Integer solution of 39.1226 found by strong branching after 14539 iterations and 265 nodes (0.44 seconds)\n",
      "Cbc0038I Full problem 162 rows 93 columns, reduced to 91 rows 54 columns\n",
      "Cbc0004I Integer solution of 38.6626 found after 17234 iterations and 341 nodes (0.51 seconds)\n",
      "Cbc0016I Integer solution of 37.3452 found by strong branching after 25147 iterations and 595 nodes (0.67 seconds)\n",
      "Cbc0038I Full problem 162 rows 93 columns, reduced to 96 rows 58 columns\n",
      "Cbc0004I Integer solution of 36.926 found after 25572 iterations and 624 nodes (0.69 seconds)\n",
      "Cbc0016I Integer solution of 33.9076 found by strong branching after 27739 iterations and 664 nodes (0.74 seconds)\n",
      "Cbc0016I Integer solution of 33.8086 found by strong branching after 28499 iterations and 704 nodes (0.77 seconds)\n",
      "Cbc0038I Full problem 162 rows 93 columns, reduced to 131 rows 73 columns - too large\n",
      "Cbc0038I Full problem 162 rows 93 columns, reduced to 105 rows 67 columns\n",
      "Cbc0038I Full problem 162 rows 93 columns, reduced to 140 rows 77 columns - too large\n",
      "Cbc0010I After 1000 nodes, 4 on tree, 33.8086 best solution, best possible 20.828035 (1.21 seconds)\n",
      "Cbc0001I Search completed - best objective 33.80860000569633, took 53982 iterations and 1075 nodes (1.43 seconds)\n",
      "Cbc0032I Strong branching done 10120 times (70347 iterations), fathomed 152 nodes and fixed 270 variables\n",
      "Cbc0035I Maximum depth 26, 343 variables fixed on reduced cost\n",
      "Cuts at root node changed objective from 13.181 to 20.828\n",
      "Probing was tried 100 times and created 48 cuts of which 7 were active after adding rounds of cuts (0.006 seconds)\n",
      "Gomory was tried 1981 times and created 9736 cuts of which 0 were active after adding rounds of cuts (0.134 seconds)\n",
      "Knapsack was tried 100 times and created 0 cuts of which 0 were active after adding rounds of cuts (0.003 seconds)\n",
      "Clique was tried 100 times and created 0 cuts of which 0 were active after adding rounds of cuts (0.001 seconds)\n",
      "M(CVXPY) Jul 20 08:42:07 PM: Solver (including time spent in interface) took 1.595e+00 seconds\n",
      "CPU times: user 2.01 s, sys: 172 ms, total: 2.19 s\n",
      "Wall time: 2.18 s\n",
      "ixedIntegerRounding2 was tried 1981 times and created 5246 cuts of which 0 were active after adding rounds of cuts (0.121 seconds)\n",
      "FlowCover was tried 100 times and created 12 cuts of which 0 were active after adding rounds of cuts (0.006 seconds)\n",
      "TwoMirCuts was tried 1 times and created 0 cuts of which 0 were active after adding rounds of cuts (0.000 seconds)\n",
      "ZeroHalf was tried 1 times and created 0 cuts of which 0 were active after adding rounds of cuts (0.000 seconds)\n",
      "\n",
      "Result - Optimal solution found\n",
      "\n",
      "Objective value:                33.80860001\n",
      "Enumerated nodes:               1075\n",
      "Total iterations:               53982\n",
      "Time (CPU seconds):             1.44\n",
      "Time (Wallclock seconds):       1.59\n",
      "\n",
      "Total time (CPU seconds):       1.44   (Wallclock seconds):       1.59\n",
      "\n"
     ]
    }
   ],
   "source": [
    "%%time\n",
    "p, c = fp.layout()"
   ]
  },
  {
   "cell_type": "code",
   "execution_count": 41,
   "metadata": {},
   "outputs": [
    {
     "data": {
      "text/plain": [
       "29.976999921813714"
      ]
     },
     "execution_count": 41,
     "metadata": {},
     "output_type": "execute_result"
    }
   ],
   "source": [
    "# 92.70\n",
    "# 89.75\n",
    "# 67.449\n",
    "# 1862.01040\n",
    "# 2744.626\n",
    "fp.h.value"
   ]
  },
  {
   "cell_type": "code",
   "execution_count": 42,
   "metadata": {},
   "outputs": [
    {
     "data": {
      "image/png": "[encoded data removed]",
      "text/plain": [
       "<Figure size 432x288 with 1 Axes>"
      ]
     },
     "metadata": {},
     "output_type": "display_data"
    }
   ],
   "source": [
    "violations = fp.verify_constraints(c) # coimp 4 mirror x axis\n",
    "#assert np.all(violations <= 1e-5)\n",
    "fp.show()"
   ]
  },
  {
   "cell_type": "code",
   "execution_count": 43,
   "metadata": {},
   "outputs": [
    {
     "name": "stdout",
     "output_type": "stream",
     "text": [
      "0 140.03359999999998 98.8434 2.06 4.04\n",
      "1 144.5736 108.5104 2.06 4.04\n",
      "2 142.27300000000002 102.39040006393269 2.06 4.04\n",
      "3 144.73399998509396 99.25040000000001 2.06 4.04\n",
      "4 144.833 101.8104 6.2 6.2\n",
      "5 149.27399998509395 108.51040000000002 2.2 4.2\n",
      "6 151.53300000000004 103.81040000000002 2.2 4.2\n",
      "7 154.233 99.802 3.7 10.2\n"
     ]
    }
   ],
   "source": [
    "for i in range(db.getInstancesCount()):\n",
    "    box = fp.boxes[i]\n",
    "    \n",
    "    xpos = box.x.value.item()\n",
    "    ypos = box.y.value.item()\n",
    "    print(i, xpos, ypos, box.w, box.h)"
   ]
  },
  {
   "cell_type": "code",
   "execution_count": 44,
   "metadata": {},
   "outputs": [
    {
     "name": "stdout",
     "output_type": "stream",
     "text": [
      "0 142.0536 99.8734 2.06 4.04 270.0 1.0\n",
      "0 142.0536 99.8734 2.06 4.04 0.0 1.0\n",
      "1 146.5936 109.5404 2.06 4.04 270.0 1.0\n",
      "1 146.5936 109.5404 2.06 4.04 0.0 1.0\n",
      "2 143.30300000000003 104.41040006393268 2.06 4.04 90.0 0.0\n",
      "2 143.30300000000003 104.41040006393268 2.06 4.04 90.0 0.0\n",
      "3 146.75399998509397 100.28040000000001 2.06 4.04 180.0 1.0\n",
      "3 146.75399998509397 100.28040000000001 2.06 4.04 180.0 1.0\n",
      "4 147.933 104.9104 6.2 6.2 270.0 0.0\n",
      "4 147.933 104.9104 6.2 6.2 270.0 0.0\n",
      "5 151.37399998509395 109.61040000000001 2.2 4.2 270.0 1.0\n",
      "5 151.37399998509395 109.61040000000001 2.2 4.2 0.0 1.0\n",
      "6 152.63300000000004 105.91040000000001 2.2 4.2 270.0 0.0\n",
      "6 152.63300000000004 105.91040000000001 2.2 4.2 270.0 0.0\n",
      "7 156.083 104.902 3.7 10.2 90.0 0.0\n",
      "7 156.083 104.902 3.7 10.2 90.0 0.0\n"
     ]
    }
   ],
   "source": [
    "for i in range(db.getInstancesCount()):\n",
    "    inst = db.getInstance(i)\n",
    "    compid = inst.getComponentId()\n",
    "    \n",
    "    box = fp.boxes[i]\n",
    "    \n",
    "    xpos = box.x.value.item() + 0.5 * ((1-fp.boxes[i].r.value)*fp.boxes[i].w.value + \n",
    "                                          (fp.boxes[i].r.value)*fp.boxes[i].h.value)\n",
    "    ypos = box.y.value.item()+ 0.5 * ((1-fp.boxes[i].r.value)*fp.boxes[i].h.value + \n",
    "                                         (fp.boxes[i].r.value)*fp.boxes[i].w.value)\n",
    "    inst.setX(xpos)\n",
    "    inst.setY(ypos)\n",
    "\n",
    "    rotated = box.r.value\n",
    "    mirroredX = box.mx.value.item()\n",
    "    mirroredY = box.my.value.item()\n",
    "    \n",
    "    init_angle = inst.getAngle()\n",
    "    \"\"\"\n",
    "    if (init_angle == 0):\n",
    "        initrot.append(False)\n",
    "        initm.append(False)\n",
    "    elif (init_angle == 90):\n",
    "        initrot.append(True)\n",
    "        initm.append(False)\n",
    "    elif (init_angle == 180):\n",
    "        initrot.append(False)\n",
    "        initm.append(True)\n",
    "    elif (init_angle == 270):\n",
    "        initrot.append(True)\n",
    "        initm.append(True)\n",
    "    \"\"\"  \n",
    "    print(i, xpos, ypos, box.w, box.h,init_angle, rotated)\n",
    "    #ORIENTATION 0 90 -90\n",
    "    if (init_angle==0) and (rotated == 0.0):\n",
    "        inst.setAngle(90)\n",
    "    elif (init_angle==0) and (rotated == 1.0):\n",
    "        inst.setAngle(0)\n",
    "    elif (init_angle==90) and (rotated == 0.0):\n",
    "        inst.setAngle(90)\n",
    "    elif (init_angle==90) and (rotated == 1.0):\n",
    "        inst.setAngle(180)\n",
    "    elif (init_angle==180) and (rotated == 0.0):\n",
    "        inst.setAngle(270)\n",
    "    elif (init_angle==180) and (rotated == 1.0):\n",
    "        inst.setAngle(180)\n",
    "    elif (init_angle==270) and (rotated == 0.0):\n",
    "        inst.setAngle(270)\n",
    "    elif (init_angle==270) and (rotated == 1.0):\n",
    "        inst.setAngle(0)\n",
    "    print(i, xpos, ypos, box.w, box.h,inst.getAngle(), rotated)    \n",
    "    \n",
    "    #if rotated==1.0:\n",
    "    #    inst.setAngle(0)\n",
    "    #else:\n",
    "    #    inst.setAngle(90)"
   ]
  },
  {
   "cell_type": "code",
   "execution_count": 45,
   "metadata": {},
   "outputs": [],
   "source": [
    "# db.printKiCad()"
   ]
  },
  {
   "cell_type": "code",
   "execution_count": 46,
   "metadata": {},
   "outputs": [
    {
     "name": "stdout",
     "output_type": "stream",
     "text": [
      "total 532\n",
      "-rw-rw-r-- 1 yuw yuw   1070 Jul 17 19:33 LICENSE\n",
      "drwxrwxr-x 2 yuw yuw   4096 Jul 17 19:33 KicadParser\n",
      "-rw-rw-r-- 1 yuw yuw    255 Jul 17 19:33 install_conda.sh\n",
      "drwxrwxr-x 4 yuw yuw   4096 Jul 17 19:33 input_pin_aware\n",
      "-rw-rw-r-- 1 yuw yuw  12167 Jul 17 19:33 floorplan_smt.py\n",
      "-rw-rw-r-- 1 yuw yuw    327 Jul 17 19:33 CMakeLists.txt\n",
      "-rw-rw-r-- 1 yuw yuw   1534 Jul 17 19:33 cmake_install.cmake\n",
      "drwxrwxr-x 4 yuw yuw   4096 Jul 17 19:33 CMakeFiles\n",
      "-rwxrwxr-x 1 yuw yuw     33 Jul 17 19:33 clean\n",
      "drwxrwxr-x 2 yuw yuw   4096 Jul 17 19:33 src\n",
      "-rw-rw-r-- 1 yuw yuw   4408 Jul 17 19:33 requirements.txt\n",
      "-rw-rw-r-- 1 yuw yuw  28615 Jul 17 19:33 placedb.py\n",
      "drwxrwxr-x 3 yuw yuw   4096 Jul 17 23:24 ucsdpcb\n",
      "drwxrwxr-x 2 yuw yuw   4096 Jul 19 05:41 _PCBBenchmarks\n",
      "-rw-rw-r-- 1 yuw yuw  25456 Jul 20 12:12 original_test.png\n",
      "-rw-rw-r-- 1 yuw yuw  20713 Jul 20 12:12 floorplan.py\n",
      "drwxrwxr-x 2 yuw yuw   4096 Jul 20 12:25 __pycache__\n",
      "drwxrwxr-x 4 yuw yuw   4096 Jul 20 12:26 PCBBenchmarks\n",
      "-rw-rw-r-- 1 yuw yuw  73483 Jul 20 19:41 milp.ipynb\n",
      "-rw-rw-r-- 1 yuw yuw 101477 Jul 20 19:42 MILP_revised.ipynb\n",
      "-rw-rw-r-- 1 yuw yuw  24936 Jul 20 20:40 output.bm9.routed.kicad_pcb\n",
      "-rw-rw-r-- 1 yuw yuw 182914 Jul 20 20:42 milp_init.ipynb\n"
     ]
    }
   ],
   "source": [
    "!ls -lrt"
   ]
  },
  {
   "cell_type": "code",
   "execution_count": 47,
   "metadata": {},
   "outputs": [
    {
     "name": "stdout",
     "output_type": "stream",
     "text": [
      "/home/yuw/Desktop/Github/PCBPlacer/PCBPlacer\n"
     ]
    }
   ],
   "source": [
    "!pwd"
   ]
  },
  {
   "cell_type": "code",
   "execution_count": 48,
   "metadata": {},
   "outputs": [
    {
     "name": "stdout",
     "output_type": "stream",
     "text": [
      "ls: cannot access 'PCBBenchmarks/bm7/bm7.routed.kicad_pcb': No such file or directory\n"
     ]
    }
   ],
   "source": [
    "!ls PCBBenchmarks/bm7/bm7.routed.kicad_pcb"
   ]
  },
  {
   "cell_type": "code",
   "execution_count": 49,
   "metadata": {},
   "outputs": [],
   "source": [
    "opt_init, opt_update, get_params = optimizers.adam(5e-2, b1=0.9, b2=0.999, eps=1e-08)\n",
    "opt_state = opt_init(param_hist[-1])"
   ]
  },
  {
   "cell_type": "code",
   "execution_count": 50,
   "metadata": {},
   "outputs": [
    {
     "ename": "TypeError",
     "evalue": "Indexer must have integer or boolean type, got indexer with type float32 at position 0, indexer value Traced<ShapedArray(float32[])>with<DynamicJaxprTrace(level=0/1)>",
     "output_type": "error",
     "traceback": [
      "\u001b[0;31m---------------------------------------------------------------------------\u001b[0m",
      "\u001b[0;31mTypeError\u001b[0m                                 Traceback (most recent call last)",
      "\u001b[0;32m/tmp/ipykernel_14639/4091713599.py\u001b[0m in \u001b[0;36m<module>\u001b[0;34m\u001b[0m\n\u001b[1;32m      2\u001b[0m \u001b[0mh\u001b[0m \u001b[0;34m=\u001b[0m \u001b[0;34m[\u001b[0m\u001b[0;34m]\u001b[0m\u001b[0;34m\u001b[0m\u001b[0;34m\u001b[0m\u001b[0m\n\u001b[1;32m      3\u001b[0m \u001b[0;32mfor\u001b[0m \u001b[0m_\u001b[0m \u001b[0;32min\u001b[0m \u001b[0mrange\u001b[0m\u001b[0;34m(\u001b[0m\u001b[0;36m500\u001b[0m\u001b[0;34m)\u001b[0m\u001b[0;34m:\u001b[0m\u001b[0;34m\u001b[0m\u001b[0;34m\u001b[0m\u001b[0m\n\u001b[0;32m----> 4\u001b[0;31m     \u001b[0mopt_state\u001b[0m \u001b[0;34m=\u001b[0m \u001b[0mec_step\u001b[0m\u001b[0;34m(\u001b[0m\u001b[0mi\u001b[0m\u001b[0;34m,\u001b[0m \u001b[0mopt_state\u001b[0m\u001b[0;34m,\u001b[0m \u001b[0medgetensor\u001b[0m\u001b[0;34m)\u001b[0m\u001b[0;34m\u001b[0m\u001b[0;34m\u001b[0m\u001b[0m\n\u001b[0m\u001b[1;32m      5\u001b[0m     \u001b[0mparams\u001b[0m \u001b[0;34m=\u001b[0m \u001b[0mget_params\u001b[0m\u001b[0;34m(\u001b[0m\u001b[0mopt_state\u001b[0m\u001b[0;34m)\u001b[0m\u001b[0;34m\u001b[0m\u001b[0;34m\u001b[0m\u001b[0m\n\u001b[1;32m      6\u001b[0m \u001b[0;34m\u001b[0m\u001b[0m\n",
      "    \u001b[0;31m[... skipping hidden 14 frame]\u001b[0m\n",
      "\u001b[0;32m/tmp/ipykernel_14639/1615804400.py\u001b[0m in \u001b[0;36mec_step\u001b[0;34m(i, opt_state, edgetensor, fixed_idx)\u001b[0m\n\u001b[1;32m     23\u001b[0m     \u001b[0;31m# print(\"g[0] shape: \", g[0].shape)\u001b[0m\u001b[0;34m\u001b[0m\u001b[0;34m\u001b[0m\u001b[0m\n\u001b[1;32m     24\u001b[0m     \u001b[0;31m# print(\"g[0][fixed_idx] val: \", g[0][jnp.array(fixed_idx)])\u001b[0m\u001b[0;34m\u001b[0m\u001b[0;34m\u001b[0m\u001b[0m\n\u001b[0;32m---> 25\u001b[0;31m     \u001b[0mg_0\u001b[0m \u001b[0;34m=\u001b[0m \u001b[0mg\u001b[0m\u001b[0;34m[\u001b[0m\u001b[0;36m0\u001b[0m\u001b[0;34m]\u001b[0m\u001b[0;34m.\u001b[0m\u001b[0mat\u001b[0m\u001b[0;34m[\u001b[0m\u001b[0mjnp\u001b[0m\u001b[0;34m.\u001b[0m\u001b[0marray\u001b[0m\u001b[0;34m(\u001b[0m\u001b[0mfixed_idx\u001b[0m\u001b[0;34m)\u001b[0m\u001b[0;34m]\u001b[0m\u001b[0;34m.\u001b[0m\u001b[0mset\u001b[0m\u001b[0;34m(\u001b[0m\u001b[0;36m0\u001b[0m\u001b[0;34m)\u001b[0m\u001b[0;34m\u001b[0m\u001b[0;34m\u001b[0m\u001b[0m\n\u001b[0m\u001b[1;32m     26\u001b[0m     \u001b[0;31m# g_0 = g[0].at[jnp.array(fixed_idx)].at[1].set(0)\u001b[0m\u001b[0;34m\u001b[0m\u001b[0;34m\u001b[0m\u001b[0m\n\u001b[1;32m     27\u001b[0m     \u001b[0;31m# g_0 = jax.ops.index_update(g[0], fixed_idx, 0)\u001b[0m\u001b[0;34m\u001b[0m\u001b[0;34m\u001b[0m\u001b[0m\n",
      "\u001b[0;32m~/anaconda3/lib/python3.9/site-packages/jax/_src/numpy/lax_numpy.py\u001b[0m in \u001b[0;36mset\u001b[0;34m(self, values, indices_are_sorted, unique_indices, mode)\u001b[0m\n\u001b[1;32m   5521\u001b[0m     \u001b[0mSee\u001b[0m \u001b[0;34m:\u001b[0m\u001b[0mmod\u001b[0m\u001b[0;34m:\u001b[0m\u001b[0;31m`\u001b[0m\u001b[0mjax\u001b[0m\u001b[0;34m.\u001b[0m\u001b[0mops\u001b[0m\u001b[0;31m`\u001b[0m \u001b[0;32mfor\u001b[0m \u001b[0mdetails\u001b[0m\u001b[0;34m.\u001b[0m\u001b[0;34m\u001b[0m\u001b[0;34m\u001b[0m\u001b[0m\n\u001b[1;32m   5522\u001b[0m     \"\"\"\n\u001b[0;32m-> 5523\u001b[0;31m     return scatter._scatter_update(self.array, self.index, values, lax.scatter,\n\u001b[0m\u001b[1;32m   5524\u001b[0m                                    \u001b[0mindices_are_sorted\u001b[0m\u001b[0;34m=\u001b[0m\u001b[0mindices_are_sorted\u001b[0m\u001b[0;34m,\u001b[0m\u001b[0;34m\u001b[0m\u001b[0;34m\u001b[0m\u001b[0m\n\u001b[1;32m   5525\u001b[0m                                    unique_indices=unique_indices, mode=mode)\n",
      "\u001b[0;32m~/anaconda3/lib/python3.9/site-packages/jax/_src/ops/scatter.py\u001b[0m in \u001b[0;36m_scatter_update\u001b[0;34m(x, idx, y, scatter_op, indices_are_sorted, unique_indices, mode, normalize_indices)\u001b[0m\n\u001b[1;32m     68\u001b[0m   \u001b[0;31m# is more or less a transpose of the gather equivalent.\u001b[0m\u001b[0;34m\u001b[0m\u001b[0;34m\u001b[0m\u001b[0m\n\u001b[1;32m     69\u001b[0m   \u001b[0mtreedef\u001b[0m\u001b[0;34m,\u001b[0m \u001b[0mstatic_idx\u001b[0m\u001b[0;34m,\u001b[0m \u001b[0mdynamic_idx\u001b[0m \u001b[0;34m=\u001b[0m \u001b[0mjnp\u001b[0m\u001b[0;34m.\u001b[0m\u001b[0m_split_index_for_jit\u001b[0m\u001b[0;34m(\u001b[0m\u001b[0midx\u001b[0m\u001b[0;34m,\u001b[0m \u001b[0mx\u001b[0m\u001b[0;34m.\u001b[0m\u001b[0mshape\u001b[0m\u001b[0;34m)\u001b[0m\u001b[0;34m\u001b[0m\u001b[0;34m\u001b[0m\u001b[0m\n\u001b[0;32m---> 70\u001b[0;31m   return _scatter_impl(x, y, scatter_op, treedef, static_idx, dynamic_idx,\n\u001b[0m\u001b[1;32m     71\u001b[0m                        \u001b[0mindices_are_sorted\u001b[0m\u001b[0;34m,\u001b[0m \u001b[0munique_indices\u001b[0m\u001b[0;34m,\u001b[0m \u001b[0mmode\u001b[0m\u001b[0;34m,\u001b[0m\u001b[0;34m\u001b[0m\u001b[0;34m\u001b[0m\u001b[0m\n\u001b[1;32m     72\u001b[0m                        normalize_indices)\n",
      "\u001b[0;32m~/anaconda3/lib/python3.9/site-packages/jax/_src/ops/scatter.py\u001b[0m in \u001b[0;36m_scatter_impl\u001b[0;34m(x, y, scatter_op, treedef, static_idx, dynamic_idx, indices_are_sorted, unique_indices, mode, normalize_indices)\u001b[0m\n\u001b[1;32m     83\u001b[0m \u001b[0;34m\u001b[0m\u001b[0m\n\u001b[1;32m     84\u001b[0m   \u001b[0midx\u001b[0m \u001b[0;34m=\u001b[0m \u001b[0mjnp\u001b[0m\u001b[0;34m.\u001b[0m\u001b[0m_merge_static_and_dynamic_indices\u001b[0m\u001b[0;34m(\u001b[0m\u001b[0mtreedef\u001b[0m\u001b[0;34m,\u001b[0m \u001b[0mstatic_idx\u001b[0m\u001b[0;34m,\u001b[0m \u001b[0mdynamic_idx\u001b[0m\u001b[0;34m)\u001b[0m\u001b[0;34m\u001b[0m\u001b[0;34m\u001b[0m\u001b[0m\n\u001b[0;32m---> 85\u001b[0;31m   indexer = jnp._index_to_gather(jnp.shape(x), idx,\n\u001b[0m\u001b[1;32m     86\u001b[0m                                  normalize_indices=normalize_indices)\n\u001b[1;32m     87\u001b[0m \u001b[0;34m\u001b[0m\u001b[0m\n",
      "\u001b[0;32m~/anaconda3/lib/python3.9/site-packages/jax/_src/numpy/lax_numpy.py\u001b[0m in \u001b[0;36m_index_to_gather\u001b[0;34m(x_shape, idx, normalize_indices)\u001b[0m\n\u001b[1;32m   4538\u001b[0m         msg = (\"Indexer must have integer or boolean type, got indexer \"\n\u001b[1;32m   4539\u001b[0m                \"with type {} at position {}, indexer value {}\")\n\u001b[0;32m-> 4540\u001b[0;31m         \u001b[0;32mraise\u001b[0m \u001b[0mTypeError\u001b[0m\u001b[0;34m(\u001b[0m\u001b[0mmsg\u001b[0m\u001b[0;34m.\u001b[0m\u001b[0mformat\u001b[0m\u001b[0;34m(\u001b[0m\u001b[0mabstract_i\u001b[0m\u001b[0;34m.\u001b[0m\u001b[0mdtype\u001b[0m\u001b[0;34m.\u001b[0m\u001b[0mname\u001b[0m\u001b[0;34m,\u001b[0m \u001b[0midx_pos\u001b[0m\u001b[0;34m,\u001b[0m \u001b[0mi\u001b[0m\u001b[0;34m)\u001b[0m\u001b[0;34m)\u001b[0m\u001b[0;34m\u001b[0m\u001b[0;34m\u001b[0m\u001b[0m\n\u001b[0m\u001b[1;32m   4541\u001b[0m \u001b[0;34m\u001b[0m\u001b[0m\n\u001b[1;32m   4542\u001b[0m       \u001b[0mmsg\u001b[0m \u001b[0;34m=\u001b[0m \u001b[0;34m\"Indexing mode not yet supported. Open a feature request!\\n{}\"\u001b[0m\u001b[0;34m\u001b[0m\u001b[0;34m\u001b[0m\u001b[0m\n",
      "\u001b[0;31mTypeError\u001b[0m: Indexer must have integer or boolean type, got indexer with type float32 at position 0, indexer value Traced<ShapedArray(float32[])>with<DynamicJaxprTrace(level=0/1)>"
     ]
    }
   ],
   "source": [
    "# edge cut cost\n",
    "h = []\n",
    "for _ in range(500):\n",
    "    opt_state = ec_step(i, opt_state, edgetensor)\n",
    "    params = get_params(opt_state)\n",
    "\n",
    "    ob = ec_objective(params, edgetensor, edgetensor)\n",
    "    h.append(np.log(ob))\n",
    "plt.plot(h)"
   ]
  },
  {
   "cell_type": "code",
   "execution_count": null,
   "metadata": {},
   "outputs": [],
   "source": [
    "h[-1]"
   ]
  },
  {
   "cell_type": "code",
   "execution_count": null,
   "metadata": {},
   "outputs": [],
   "source": []
  }
 ],
 "metadata": {
  "kernelspec": {
   "display_name": "Python 3",
   "language": "python",
   "name": "python3"
  },
  "language_info": {
   "codemirror_mode": {
    "name": "ipython",
    "version": 3
   },
   "file_extension": ".py",
   "mimetype": "text/x-python",
   "name": "python",
   "nbconvert_exporter": "python",
   "pygments_lexer": "ipython3",
   "version": "3.9.7"
  }
 },
 "nbformat": 4,
 "nbformat_minor": 4
}
